{
  "cells": [
    {
      "cell_type": "markdown",
      "metadata": {
        "id": "zkMZxP7CLUB-"
      },
      "source": [
        "<h1><center> IESB EAD - Probabilidade e estatística </h1>"
      ]
    },
    {
      "cell_type": "markdown",
      "metadata": {
        "id": "-rDdfmDXKXsa"
      },
      "source": [
        "# Caro aluno,\n",
        "\n",
        "1.   Item da lista\n",
        "2.   Item da lista\n",
        "\n",
        "\n",
        "\n",
        "Pontuação (0,25 Pontos)\n",
        "*\tQuantas reclamações foram registradas em 2016, contidas nesta base? \n",
        "*\tQual região houve mais reclamação? E qual houve menos?\n",
        "*\tQual a quantidade de reclamações realizadas por homens? E por mulheres?\n",
        "\n",
        "Pontuação (0,25 Pontos)\n",
        "*\tEm qual região os homens fizeram mais reclamações que as mulheres?\n",
        "*\tQual a faixa etária que realizou mais reclamações?\n",
        "*\tQuais assuntos apresentaram mais reclamações em 2016?\n",
        "*\tAnalisando o nome fantasia, determine qual empresa recebeu mais reclamações em 2016.\n",
        "*\tQual empresa possui um maior percentual de resolução de reclamações?\n",
        "\n",
        "\n",
        "\n",
        "Pontuação (1 Ponto)\n",
        "\n",
        "*\tMonte um gráfico mostrando a quantidade de reclamações por região, separando as mesmas por sexo.\n",
        "*\tElabore um gráfico de linhas com a quantidade de reclamações por mês. Este gráfico lembra alguma distribuição estatística?\n",
        "*\tElabore um gráfico boxplot mostrando a duração das reclamações por região.\n",
        "\n",
        "Pontuação (0,5 Pontos)\n",
        "\n",
        "*\tÉ possível afirmar que existe correlação entre o número de reclamações E o número de habitantes por Estado? Elabore um gráfico de dispersão e calcule o índice de correlação destes dois fatores.\n",
        "\n",
        "\n",
        "Todo o trabalho deverá ser feito utilizando notebook Python. Pode ser utilizado a plataforma Google Colaboratory e todos os itens acima deverão ser demonstrados. NÃO SERÃO ACEITO APENAS AS RESPOSTAS AS PERGUNTAS. O aluno deverá apresentar todos os comandos utilizados para obter as informações solicitadas.\n",
        "\n",
        "O aluno deverá imprimir o notebook em formato PDF e submeter no campo atividade ativa, juntamente com o Notebook do projeto. \n",
        "\n",
        "Não serão corrigidos trabalhos com formato diferente de PDF como .ZIP,tar, ou imagens."
      ]
    },
    {
      "cell_type": "code",
      "source": [
        "!pip install nbconvert"
      ],
      "metadata": {
        "colab": {
          "base_uri": "https://localhost:8080/"
        },
        "id": "ZJuPmDXes5_s",
        "outputId": "a379d72a-e8af-4104-a9f1-9c8a1a85163b"
      },
      "execution_count": null,
      "outputs": [
        {
          "output_type": "stream",
          "name": "stdout",
          "text": [
            "Requirement already satisfied: nbconvert in /usr/local/lib/python3.7/dist-packages (5.6.1)\n",
            "Requirement already satisfied: jinja2>=2.4 in /usr/local/lib/python3.7/dist-packages (from nbconvert) (2.11.3)\n",
            "Requirement already satisfied: mistune<2,>=0.8.1 in /usr/local/lib/python3.7/dist-packages (from nbconvert) (0.8.4)\n",
            "Requirement already satisfied: bleach in /usr/local/lib/python3.7/dist-packages (from nbconvert) (4.1.0)\n",
            "Requirement already satisfied: traitlets>=4.2 in /usr/local/lib/python3.7/dist-packages (from nbconvert) (5.1.1)\n",
            "Requirement already satisfied: entrypoints>=0.2.2 in /usr/local/lib/python3.7/dist-packages (from nbconvert) (0.4)\n",
            "Requirement already satisfied: defusedxml in /usr/local/lib/python3.7/dist-packages (from nbconvert) (0.7.1)\n",
            "Requirement already satisfied: pandocfilters>=1.4.1 in /usr/local/lib/python3.7/dist-packages (from nbconvert) (1.5.0)\n",
            "Requirement already satisfied: nbformat>=4.4 in /usr/local/lib/python3.7/dist-packages (from nbconvert) (5.2.0)\n",
            "Requirement already satisfied: pygments in /usr/local/lib/python3.7/dist-packages (from nbconvert) (2.6.1)\n",
            "Requirement already satisfied: jupyter-core in /usr/local/lib/python3.7/dist-packages (from nbconvert) (4.9.2)\n",
            "Requirement already satisfied: testpath in /usr/local/lib/python3.7/dist-packages (from nbconvert) (0.6.0)\n",
            "Requirement already satisfied: MarkupSafe>=0.23 in /usr/local/lib/python3.7/dist-packages (from jinja2>=2.4->nbconvert) (2.0.1)\n",
            "Requirement already satisfied: jsonschema!=2.5.0,>=2.4 in /usr/local/lib/python3.7/dist-packages (from nbformat>=4.4->nbconvert) (4.3.3)\n",
            "Requirement already satisfied: importlib-resources>=1.4.0 in /usr/local/lib/python3.7/dist-packages (from jsonschema!=2.5.0,>=2.4->nbformat>=4.4->nbconvert) (5.4.0)\n",
            "Requirement already satisfied: typing-extensions in /usr/local/lib/python3.7/dist-packages (from jsonschema!=2.5.0,>=2.4->nbformat>=4.4->nbconvert) (3.10.0.2)\n",
            "Requirement already satisfied: attrs>=17.4.0 in /usr/local/lib/python3.7/dist-packages (from jsonschema!=2.5.0,>=2.4->nbformat>=4.4->nbconvert) (21.4.0)\n",
            "Requirement already satisfied: importlib-metadata in /usr/local/lib/python3.7/dist-packages (from jsonschema!=2.5.0,>=2.4->nbformat>=4.4->nbconvert) (4.11.3)\n",
            "Requirement already satisfied: pyrsistent!=0.17.0,!=0.17.1,!=0.17.2,>=0.14.0 in /usr/local/lib/python3.7/dist-packages (from jsonschema!=2.5.0,>=2.4->nbformat>=4.4->nbconvert) (0.18.1)\n",
            "Requirement already satisfied: zipp>=3.1.0 in /usr/local/lib/python3.7/dist-packages (from importlib-resources>=1.4.0->jsonschema!=2.5.0,>=2.4->nbformat>=4.4->nbconvert) (3.7.0)\n",
            "Requirement already satisfied: six>=1.9.0 in /usr/local/lib/python3.7/dist-packages (from bleach->nbconvert) (1.15.0)\n",
            "Requirement already satisfied: packaging in /usr/local/lib/python3.7/dist-packages (from bleach->nbconvert) (21.3)\n",
            "Requirement already satisfied: webencodings in /usr/local/lib/python3.7/dist-packages (from bleach->nbconvert) (0.5.1)\n",
            "Requirement already satisfied: pyparsing!=3.0.5,>=2.0.2 in /usr/local/lib/python3.7/dist-packages (from packaging->bleach->nbconvert) (3.0.7)\n"
          ]
        }
      ]
    },
    {
      "cell_type": "code",
      "source": [
        "! jupyter nbconvert --to html AtividadeAtiva.ipynb"
      ],
      "metadata": {
        "id": "SJ9-bTLFtTy-"
      },
      "execution_count": null,
      "outputs": []
    },
    {
      "cell_type": "code",
      "execution_count": null,
      "metadata": {
        "id": "Btyxxys8MEbP"
      },
      "outputs": [],
      "source": [
        "#Iniciando a biblioteca pandas\n",
        "import pandas as pd\n",
        "import seaborn as sns\n",
        "import matplotlib.pyplot as plt\n",
        "\n"
      ]
    },
    {
      "cell_type": "code",
      "execution_count": null,
      "metadata": {
        "colab": {
          "base_uri": "https://localhost:8080/",
          "height": 525
        },
        "id": "4Y5i360dRisp",
        "outputId": "35fb51ac-1eec-469a-c7d3-5cdc3c2bd6dd"
      },
      "outputs": [
        {
          "output_type": "execute_result",
          "data": {
            "text/plain": [
              "   ï»¿AnoCalendario         DataArquivamento             DataAbertura  \\\n",
              "0              2016  2016-02-17 13:43:08.000  2015-10-29 10:59:59.000   \n",
              "1              2016  2016-12-15 18:11:35.000  2016-11-18 14:52:22.000   \n",
              "2              2016  2016-09-16 09:01:46.000  2016-06-29 13:58:35.000   \n",
              "3              2016  2016-02-18 13:30:30.000  2016-01-21 12:23:51.000   \n",
              "4              2016  2016-11-09 14:20:36.000  2016-10-07 16:39:59.000   \n",
              "\n",
              "   CodigoRegiao    Regiao  UF  \\\n",
              "0             2  Nordeste  PE   \n",
              "1             2  Nordeste  PE   \n",
              "2             2  Nordeste  PE   \n",
              "3             2  Nordeste  PE   \n",
              "4             2  Nordeste  PE   \n",
              "\n",
              "                                      strRazaoSocial strNomeFantasia  Tipo  \\\n",
              "0     CVC BRASIL OPERADORA E AGENCIA DE VIAGENS S.A.             CVC     1   \n",
              "1                     GIORGIO ARMANI BRASIL COMERCIO  EMPORIO ARMANI     1   \n",
              "2                 COMPANHIA ENERGETICA DE PERNAMBUCO           CELPE     1   \n",
              "3                                       MOURA DUBEUX    MOURA DUBEUX     1   \n",
              "4  ASSOCIAÃÃO UNIFICADA PAULISTA DE ENSINO RENO...            UNIP     1   \n",
              "\n",
              "     NumeroCNPJ  ...  CNAEPrincipal                    DescCNAEPrincipal  \\\n",
              "0  1.076026e+13  ...      7911200.0                 AGÃNCIAS DE VIAGENS   \n",
              "1  1.318050e+13  ...            NaN                                  NaN   \n",
              "2  1.083593e+13  ...      3514000.0  DISTRIBUIÃÃO DE ENERGIA ELÃTRICA   \n",
              "3  1.204963e+13  ...      4120400.0           CONSTRUÃÃO DE EDIFÃCIOS   \n",
              "4           NaN  ...            NaN                                  NaN   \n",
              "\n",
              "  Atendida  CodigoAssunto                                   DescricaoAssunto  \\\n",
              "0        S            276  AgÃªncias e Operadoras de viagens (pacotes tur...   \n",
              "1        N            132                    VestuÃ¡rio ( CalÃ§ado / Roupa )   \n",
              "2        S            185                                  Energia ElÃ©trica   \n",
              "3        S             82   IncorporaÃ§Ã£o ( Construtoras e Incorporadoras )   \n",
              "4        S            233         Escola ( PrÃ©, 1Âº, 2Âº Graus e Superior )   \n",
              "\n",
              "  CodigoProblema                                  DescricaoProblema  \\\n",
              "0          205.0  Consulta Sobre ServiÃ§os (Pesquisa, cartilha, ...   \n",
              "1          105.0                                 Produto com vÃ­cio   \n",
              "2          134.0                         CobranÃ§a indevida/abusiva   \n",
              "3           88.0                           NÃ£o entrega do contrato   \n",
              "4          199.0  Documentos: nÃ£o fornecimento (escolares, reci...   \n",
              "\n",
              "  SexoConsumidor  FaixaEtariaConsumidor CEPConsumidor  \n",
              "0              M     entre 61 a 70 anos    52061540.0  \n",
              "1              F     entre 31 a 40 anos    51010140.0  \n",
              "2              F     entre 51 a 60 anos    53060600.0  \n",
              "3              M     entre 51 a 60 anos    53090220.0  \n",
              "4              F     entre 21 a 30 anos    53437100.0  \n",
              "\n",
              "[5 rows x 23 columns]"
            ],
            "text/html": [
              "\n",
              "  <div id=\"df-e64bb7cb-3210-4fb1-b1db-f68beb02301f\">\n",
              "    <div class=\"colab-df-container\">\n",
              "      <div>\n",
              "<style scoped>\n",
              "    .dataframe tbody tr th:only-of-type {\n",
              "        vertical-align: middle;\n",
              "    }\n",
              "\n",
              "    .dataframe tbody tr th {\n",
              "        vertical-align: top;\n",
              "    }\n",
              "\n",
              "    .dataframe thead th {\n",
              "        text-align: right;\n",
              "    }\n",
              "</style>\n",
              "<table border=\"1\" class=\"dataframe\">\n",
              "  <thead>\n",
              "    <tr style=\"text-align: right;\">\n",
              "      <th></th>\n",
              "      <th>ï»¿AnoCalendario</th>\n",
              "      <th>DataArquivamento</th>\n",
              "      <th>DataAbertura</th>\n",
              "      <th>CodigoRegiao</th>\n",
              "      <th>Regiao</th>\n",
              "      <th>UF</th>\n",
              "      <th>strRazaoSocial</th>\n",
              "      <th>strNomeFantasia</th>\n",
              "      <th>Tipo</th>\n",
              "      <th>NumeroCNPJ</th>\n",
              "      <th>...</th>\n",
              "      <th>CNAEPrincipal</th>\n",
              "      <th>DescCNAEPrincipal</th>\n",
              "      <th>Atendida</th>\n",
              "      <th>CodigoAssunto</th>\n",
              "      <th>DescricaoAssunto</th>\n",
              "      <th>CodigoProblema</th>\n",
              "      <th>DescricaoProblema</th>\n",
              "      <th>SexoConsumidor</th>\n",
              "      <th>FaixaEtariaConsumidor</th>\n",
              "      <th>CEPConsumidor</th>\n",
              "    </tr>\n",
              "  </thead>\n",
              "  <tbody>\n",
              "    <tr>\n",
              "      <th>0</th>\n",
              "      <td>2016</td>\n",
              "      <td>2016-02-17 13:43:08.000</td>\n",
              "      <td>2015-10-29 10:59:59.000</td>\n",
              "      <td>2</td>\n",
              "      <td>Nordeste</td>\n",
              "      <td>PE</td>\n",
              "      <td>CVC BRASIL OPERADORA E AGENCIA DE VIAGENS S.A.</td>\n",
              "      <td>CVC</td>\n",
              "      <td>1</td>\n",
              "      <td>1.076026e+13</td>\n",
              "      <td>...</td>\n",
              "      <td>7911200.0</td>\n",
              "      <td>AGÃNCIAS DE VIAGENS</td>\n",
              "      <td>S</td>\n",
              "      <td>276</td>\n",
              "      <td>AgÃªncias e Operadoras de viagens (pacotes tur...</td>\n",
              "      <td>205.0</td>\n",
              "      <td>Consulta Sobre ServiÃ§os (Pesquisa, cartilha, ...</td>\n",
              "      <td>M</td>\n",
              "      <td>entre 61 a 70 anos</td>\n",
              "      <td>52061540.0</td>\n",
              "    </tr>\n",
              "    <tr>\n",
              "      <th>1</th>\n",
              "      <td>2016</td>\n",
              "      <td>2016-12-15 18:11:35.000</td>\n",
              "      <td>2016-11-18 14:52:22.000</td>\n",
              "      <td>2</td>\n",
              "      <td>Nordeste</td>\n",
              "      <td>PE</td>\n",
              "      <td>GIORGIO ARMANI BRASIL COMERCIO</td>\n",
              "      <td>EMPORIO ARMANI</td>\n",
              "      <td>1</td>\n",
              "      <td>1.318050e+13</td>\n",
              "      <td>...</td>\n",
              "      <td>NaN</td>\n",
              "      <td>NaN</td>\n",
              "      <td>N</td>\n",
              "      <td>132</td>\n",
              "      <td>VestuÃ¡rio ( CalÃ§ado / Roupa )</td>\n",
              "      <td>105.0</td>\n",
              "      <td>Produto com vÃ­cio</td>\n",
              "      <td>F</td>\n",
              "      <td>entre 31 a 40 anos</td>\n",
              "      <td>51010140.0</td>\n",
              "    </tr>\n",
              "    <tr>\n",
              "      <th>2</th>\n",
              "      <td>2016</td>\n",
              "      <td>2016-09-16 09:01:46.000</td>\n",
              "      <td>2016-06-29 13:58:35.000</td>\n",
              "      <td>2</td>\n",
              "      <td>Nordeste</td>\n",
              "      <td>PE</td>\n",
              "      <td>COMPANHIA ENERGETICA DE PERNAMBUCO</td>\n",
              "      <td>CELPE</td>\n",
              "      <td>1</td>\n",
              "      <td>1.083593e+13</td>\n",
              "      <td>...</td>\n",
              "      <td>3514000.0</td>\n",
              "      <td>DISTRIBUIÃÃO DE ENERGIA ELÃTRICA</td>\n",
              "      <td>S</td>\n",
              "      <td>185</td>\n",
              "      <td>Energia ElÃ©trica</td>\n",
              "      <td>134.0</td>\n",
              "      <td>CobranÃ§a indevida/abusiva</td>\n",
              "      <td>F</td>\n",
              "      <td>entre 51 a 60 anos</td>\n",
              "      <td>53060600.0</td>\n",
              "    </tr>\n",
              "    <tr>\n",
              "      <th>3</th>\n",
              "      <td>2016</td>\n",
              "      <td>2016-02-18 13:30:30.000</td>\n",
              "      <td>2016-01-21 12:23:51.000</td>\n",
              "      <td>2</td>\n",
              "      <td>Nordeste</td>\n",
              "      <td>PE</td>\n",
              "      <td>MOURA DUBEUX</td>\n",
              "      <td>MOURA DUBEUX</td>\n",
              "      <td>1</td>\n",
              "      <td>1.204963e+13</td>\n",
              "      <td>...</td>\n",
              "      <td>4120400.0</td>\n",
              "      <td>CONSTRUÃÃO DE EDIFÃCIOS</td>\n",
              "      <td>S</td>\n",
              "      <td>82</td>\n",
              "      <td>IncorporaÃ§Ã£o ( Construtoras e Incorporadoras )</td>\n",
              "      <td>88.0</td>\n",
              "      <td>NÃ£o entrega do contrato</td>\n",
              "      <td>M</td>\n",
              "      <td>entre 51 a 60 anos</td>\n",
              "      <td>53090220.0</td>\n",
              "    </tr>\n",
              "    <tr>\n",
              "      <th>4</th>\n",
              "      <td>2016</td>\n",
              "      <td>2016-11-09 14:20:36.000</td>\n",
              "      <td>2016-10-07 16:39:59.000</td>\n",
              "      <td>2</td>\n",
              "      <td>Nordeste</td>\n",
              "      <td>PE</td>\n",
              "      <td>ASSOCIAÃÃO UNIFICADA PAULISTA DE ENSINO RENO...</td>\n",
              "      <td>UNIP</td>\n",
              "      <td>1</td>\n",
              "      <td>NaN</td>\n",
              "      <td>...</td>\n",
              "      <td>NaN</td>\n",
              "      <td>NaN</td>\n",
              "      <td>S</td>\n",
              "      <td>233</td>\n",
              "      <td>Escola ( PrÃ©, 1Âº, 2Âº Graus e Superior )</td>\n",
              "      <td>199.0</td>\n",
              "      <td>Documentos: nÃ£o fornecimento (escolares, reci...</td>\n",
              "      <td>F</td>\n",
              "      <td>entre 21 a 30 anos</td>\n",
              "      <td>53437100.0</td>\n",
              "    </tr>\n",
              "  </tbody>\n",
              "</table>\n",
              "<p>5 rows × 23 columns</p>\n",
              "</div>\n",
              "      <button class=\"colab-df-convert\" onclick=\"convertToInteractive('df-e64bb7cb-3210-4fb1-b1db-f68beb02301f')\"\n",
              "              title=\"Convert this dataframe to an interactive table.\"\n",
              "              style=\"display:none;\">\n",
              "        \n",
              "  <svg xmlns=\"http://www.w3.org/2000/svg\" height=\"24px\"viewBox=\"0 0 24 24\"\n",
              "       width=\"24px\">\n",
              "    <path d=\"M0 0h24v24H0V0z\" fill=\"none\"/>\n",
              "    <path d=\"M18.56 5.44l.94 2.06.94-2.06 2.06-.94-2.06-.94-.94-2.06-.94 2.06-2.06.94zm-11 1L8.5 8.5l.94-2.06 2.06-.94-2.06-.94L8.5 2.5l-.94 2.06-2.06.94zm10 10l.94 2.06.94-2.06 2.06-.94-2.06-.94-.94-2.06-.94 2.06-2.06.94z\"/><path d=\"M17.41 7.96l-1.37-1.37c-.4-.4-.92-.59-1.43-.59-.52 0-1.04.2-1.43.59L10.3 9.45l-7.72 7.72c-.78.78-.78 2.05 0 2.83L4 21.41c.39.39.9.59 1.41.59.51 0 1.02-.2 1.41-.59l7.78-7.78 2.81-2.81c.8-.78.8-2.07 0-2.86zM5.41 20L4 18.59l7.72-7.72 1.47 1.35L5.41 20z\"/>\n",
              "  </svg>\n",
              "      </button>\n",
              "      \n",
              "  <style>\n",
              "    .colab-df-container {\n",
              "      display:flex;\n",
              "      flex-wrap:wrap;\n",
              "      gap: 12px;\n",
              "    }\n",
              "\n",
              "    .colab-df-convert {\n",
              "      background-color: #E8F0FE;\n",
              "      border: none;\n",
              "      border-radius: 50%;\n",
              "      cursor: pointer;\n",
              "      display: none;\n",
              "      fill: #1967D2;\n",
              "      height: 32px;\n",
              "      padding: 0 0 0 0;\n",
              "      width: 32px;\n",
              "    }\n",
              "\n",
              "    .colab-df-convert:hover {\n",
              "      background-color: #E2EBFA;\n",
              "      box-shadow: 0px 1px 2px rgba(60, 64, 67, 0.3), 0px 1px 3px 1px rgba(60, 64, 67, 0.15);\n",
              "      fill: #174EA6;\n",
              "    }\n",
              "\n",
              "    [theme=dark] .colab-df-convert {\n",
              "      background-color: #3B4455;\n",
              "      fill: #D2E3FC;\n",
              "    }\n",
              "\n",
              "    [theme=dark] .colab-df-convert:hover {\n",
              "      background-color: #434B5C;\n",
              "      box-shadow: 0px 1px 3px 1px rgba(0, 0, 0, 0.15);\n",
              "      filter: drop-shadow(0px 1px 2px rgba(0, 0, 0, 0.3));\n",
              "      fill: #FFFFFF;\n",
              "    }\n",
              "  </style>\n",
              "\n",
              "      <script>\n",
              "        const buttonEl =\n",
              "          document.querySelector('#df-e64bb7cb-3210-4fb1-b1db-f68beb02301f button.colab-df-convert');\n",
              "        buttonEl.style.display =\n",
              "          google.colab.kernel.accessAllowed ? 'block' : 'none';\n",
              "\n",
              "        async function convertToInteractive(key) {\n",
              "          const element = document.querySelector('#df-e64bb7cb-3210-4fb1-b1db-f68beb02301f');\n",
              "          const dataTable =\n",
              "            await google.colab.kernel.invokeFunction('convertToInteractive',\n",
              "                                                     [key], {});\n",
              "          if (!dataTable) return;\n",
              "\n",
              "          const docLinkHtml = 'Like what you see? Visit the ' +\n",
              "            '<a target=\"_blank\" href=https://colab.research.google.com/notebooks/data_table.ipynb>data table notebook</a>'\n",
              "            + ' to learn more about interactive tables.';\n",
              "          element.innerHTML = '';\n",
              "          dataTable['output_type'] = 'display_data';\n",
              "          await google.colab.output.renderOutput(dataTable, element);\n",
              "          const docLink = document.createElement('div');\n",
              "          docLink.innerHTML = docLinkHtml;\n",
              "          element.appendChild(docLink);\n",
              "        }\n",
              "      </script>\n",
              "    </div>\n",
              "  </div>\n",
              "  "
            ]
          },
          "metadata": {},
          "execution_count": 3
        }
      ],
      "source": [
        "#Os dados podem ser importados diretamente da internet, sem a necessidade de ser armazenada no computador local utilizando os comandos listados abaixo\n",
        "#Fazendo o upload via google Drive. Para isso será necessário o uso de uma função que foi desenvolvida abaixo\n",
        "\n",
        "import requests\n",
        "from io import StringIO\n",
        "\n",
        "orig_url='https://drive.google.com/file/d/1pkOP40FvztNt0pnWgKMG5iTXzRt4TW_N/view?usp=sharing'\n",
        "\n",
        "\n",
        "file_id = orig_url.split('/')[-2]\n",
        "dwn_url='https://drive.google.com/uc?export=download&id=' + file_id\n",
        "url = requests.get(dwn_url).text\n",
        "csv_raw = StringIO(url)\n",
        "dfs = pd.read_csv(csv_raw)\n",
        "(dfs.head())"
      ]
    },
    {
      "cell_type": "code",
      "execution_count": null,
      "metadata": {
        "colab": {
          "base_uri": "https://localhost:8080/"
        },
        "id": "y7RjbXYAxgDE",
        "outputId": "4c75bf80-4528-402a-97fe-878626346e9d"
      },
      "outputs": [
        {
          "output_type": "stream",
          "name": "stdout",
          "text": [
            "<class 'pandas.core.frame.DataFrame'>\n",
            "RangeIndex: 203486 entries, 0 to 203485\n",
            "Data columns (total 23 columns):\n",
            " #   Column                 Non-Null Count   Dtype  \n",
            "---  ------                 --------------   -----  \n",
            " 0   ï»¿AnoCalendario       203486 non-null  int64  \n",
            " 1   DataArquivamento       203486 non-null  object \n",
            " 2   DataAbertura           203486 non-null  object \n",
            " 3   CodigoRegiao           203486 non-null  int64  \n",
            " 4   Regiao                 203486 non-null  object \n",
            " 5   UF                     203486 non-null  object \n",
            " 6   strRazaoSocial         203483 non-null  object \n",
            " 7   strNomeFantasia        173722 non-null  object \n",
            " 8   Tipo                   203486 non-null  int64  \n",
            " 9   NumeroCNPJ             195292 non-null  float64\n",
            " 10  RadicalCNPJ            195292 non-null  float64\n",
            " 11  RazaoSocialRFB         187287 non-null  object \n",
            " 12  NomeFantasiaRFB        92561 non-null   object \n",
            " 13  CNAEPrincipal          187287 non-null  float64\n",
            " 14  DescCNAEPrincipal      185784 non-null  object \n",
            " 15  Atendida               203486 non-null  object \n",
            " 16  CodigoAssunto          203486 non-null  int64  \n",
            " 17  DescricaoAssunto       203486 non-null  object \n",
            " 18  CodigoProblema         203476 non-null  float64\n",
            " 19  DescricaoProblema      203476 non-null  object \n",
            " 20  SexoConsumidor         203484 non-null  object \n",
            " 21  FaixaEtariaConsumidor  203486 non-null  object \n",
            " 22  CEPConsumidor          189400 non-null  float64\n",
            "dtypes: float64(5), int64(4), object(14)\n",
            "memory usage: 35.7+ MB\n"
          ]
        }
      ],
      "source": [
        "dfs.info()"
      ]
    },
    {
      "cell_type": "markdown",
      "metadata": {
        "id": "iMKlHOgDYFTh"
      },
      "source": [
        "<h2>1.Quantas reclamações foram registradas em 2016, contidas nesta base?</h2>\n"
      ]
    },
    {
      "cell_type": "code",
      "execution_count": null,
      "metadata": {
        "colab": {
          "base_uri": "https://localhost:8080/"
        },
        "id": "ETEF6OznRs-8",
        "outputId": "ce50f14b-96ab-4f8d-8487-fe4599bd3a67"
      },
      "outputs": [
        {
          "output_type": "execute_result",
          "data": {
            "text/plain": [
              "203486"
            ]
          },
          "metadata": {},
          "execution_count": 5
        }
      ],
      "source": [
        "len(dfs)"
      ]
    },
    {
      "cell_type": "markdown",
      "metadata": {
        "id": "Hk5OhUhhYOWO"
      },
      "source": [
        "<h2>2.Qual região houve mais reclamação? E qual houve menos?</h2>\n",
        "\n",
        "\n"
      ]
    },
    {
      "cell_type": "code",
      "execution_count": null,
      "metadata": {
        "colab": {
          "base_uri": "https://localhost:8080/"
        },
        "id": "BKqVUa5jTAZp",
        "outputId": "32c67666-4127-4821-cc6d-f8d97bdd9dba"
      },
      "outputs": [
        {
          "output_type": "execute_result",
          "data": {
            "text/plain": [
              "Nordeste        66411\n",
              "Sudeste         62974\n",
              "Centro-oeste    28786\n",
              "Sul             26113\n",
              "Norte           19202\n",
              "Name: Regiao, dtype: int64"
            ]
          },
          "metadata": {},
          "execution_count": 6
        }
      ],
      "source": [
        "dfs ['Regiao'].value_counts()"
      ]
    },
    {
      "cell_type": "markdown",
      "metadata": {
        "id": "7PTLJaG_YSs9"
      },
      "source": [
        "<h2>3.Qual a quantidade de reclamações realizadas por homens? E por mulheres?</h2>\n",
        "\n"
      ]
    },
    {
      "cell_type": "code",
      "execution_count": null,
      "metadata": {
        "colab": {
          "base_uri": "https://localhost:8080/"
        },
        "id": "xXkn0UOSUXwA",
        "outputId": "3a5ff57a-d39f-49a0-af67-f39cf3a1bc20"
      },
      "outputs": [
        {
          "output_type": "execute_result",
          "data": {
            "text/plain": [
              "F    107229\n",
              "M     94446\n",
              "N      1809\n",
              "Name: SexoConsumidor, dtype: int64"
            ]
          },
          "metadata": {},
          "execution_count": 7
        }
      ],
      "source": [
        "dfs['SexoConsumidor'].value_counts()"
      ]
    },
    {
      "cell_type": "markdown",
      "metadata": {
        "id": "LeSTEU2QYW23"
      },
      "source": [
        "<h2>4.Em qual região os homens fizeram mais reclamações que as mulheres?</h2>\n",
        "\n",
        "\n"
      ]
    },
    {
      "cell_type": "code",
      "execution_count": null,
      "metadata": {
        "colab": {
          "base_uri": "https://localhost:8080/",
          "height": 35
        },
        "id": "992QfFqWVZ01",
        "outputId": "8f870216-3840-4243-ee96-59950ad31361"
      },
      "outputs": [
        {
          "output_type": "execute_result",
          "data": {
            "text/plain": [
              "'Sul'"
            ],
            "application/vnd.google.colaboratory.intrinsic+json": {
              "type": "string"
            }
          },
          "metadata": {},
          "execution_count": 8
        }
      ],
      "source": [
        "dfs[dfs['SexoConsumidor']=='M']['Regiao'].max()"
      ]
    },
    {
      "cell_type": "markdown",
      "metadata": {
        "id": "hdHJP2F9YZ2I"
      },
      "source": [
        "<h2>5.Qual a faixa etária que realizou mais reclamações?</h2>\n"
      ]
    },
    {
      "cell_type": "code",
      "execution_count": null,
      "metadata": {
        "colab": {
          "base_uri": "https://localhost:8080/"
        },
        "id": "SJ5Bj1ScDBTc",
        "outputId": "72c66903-ef40-402e-801a-85c096fcd5ff"
      },
      "outputs": [
        {
          "output_type": "execute_result",
          "data": {
            "text/plain": [
              "count                 203486\n",
              "unique                     8\n",
              "top       entre 31 a 40 anos\n",
              "freq                   45422\n",
              "Name: FaixaEtariaConsumidor, dtype: object"
            ]
          },
          "metadata": {},
          "execution_count": 9
        }
      ],
      "source": [
        "dfs ['FaixaEtariaConsumidor'].describe()"
      ]
    },
    {
      "cell_type": "markdown",
      "metadata": {
        "id": "mY5nrp__YcG6"
      },
      "source": [
        "<h2>6.Quais assuntos apresentaram mais reclamações em 2016?</h2>\n"
      ]
    },
    {
      "cell_type": "code",
      "execution_count": null,
      "metadata": {
        "colab": {
          "base_uri": "https://localhost:8080/"
        },
        "id": "YXrUI0cl15p8",
        "outputId": "80962705-ffac-4a4a-ed5f-df978dc306fd"
      },
      "outputs": [
        {
          "output_type": "execute_result",
          "data": {
            "text/plain": [
              "Telefone ( Convencional, Celular, Interfone, Etc. )                                      21272\n",
              "Telefonia Celular                                                                        15102\n",
              "CartÃ£o de CrÃ©dito                                                                      11774\n",
              "Telefonia Fixa ( Plano de ExpansÃ£o / Compra e Venda / LocaÃ§Ã£o )                       11056\n",
              "Banco comercial                                                                           9274\n",
              "                                                                                         ...  \n",
              "PÃ³s para preparo (refresco, gelatina, pudim, bolos, pÃ£o de queijo, pizza e sorvete)        1\n",
              "Profissional Liberal - VeterinÃ¡rio                                                          1\n",
              "Venda atravÃ©s de reembolso postal a domicilio                                               1\n",
              "Ãgua                                                                                        1\n",
              "Ovos                                                                                         1\n",
              "Name: DescricaoAssunto, Length: 212, dtype: int64"
            ]
          },
          "metadata": {},
          "execution_count": 10
        }
      ],
      "source": [
        "dfs ['DescricaoAssunto'].value_counts()"
      ]
    },
    {
      "cell_type": "markdown",
      "metadata": {
        "id": "caRtXE3cYeZB"
      },
      "source": [
        "<h2>7.Analisando o nome fantasia, determine qual empresa recebeu mais "
      ]
    },
    {
      "cell_type": "code",
      "execution_count": null,
      "metadata": {
        "colab": {
          "base_uri": "https://localhost:8080/",
          "height": 174
        },
        "id": "R8nFkugB2Uz-",
        "outputId": "57cca835-6079-4017-a0c8-5a34f8797be5"
      },
      "outputs": [
        {
          "output_type": "execute_result",
          "data": {
            "text/plain": [
              "       NomeFantasiaRFB strNomeFantasia\n",
              "count            92561          173722\n",
              "unique           12865           26719\n",
              "top                 OI              OI\n",
              "freq             11216            2732"
            ],
            "text/html": [
              "\n",
              "  <div id=\"df-36bfeec2-dc60-4f3b-b5f9-553a4a4cb99d\">\n",
              "    <div class=\"colab-df-container\">\n",
              "      <div>\n",
              "<style scoped>\n",
              "    .dataframe tbody tr th:only-of-type {\n",
              "        vertical-align: middle;\n",
              "    }\n",
              "\n",
              "    .dataframe tbody tr th {\n",
              "        vertical-align: top;\n",
              "    }\n",
              "\n",
              "    .dataframe thead th {\n",
              "        text-align: right;\n",
              "    }\n",
              "</style>\n",
              "<table border=\"1\" class=\"dataframe\">\n",
              "  <thead>\n",
              "    <tr style=\"text-align: right;\">\n",
              "      <th></th>\n",
              "      <th>NomeFantasiaRFB</th>\n",
              "      <th>strNomeFantasia</th>\n",
              "    </tr>\n",
              "  </thead>\n",
              "  <tbody>\n",
              "    <tr>\n",
              "      <th>count</th>\n",
              "      <td>92561</td>\n",
              "      <td>173722</td>\n",
              "    </tr>\n",
              "    <tr>\n",
              "      <th>unique</th>\n",
              "      <td>12865</td>\n",
              "      <td>26719</td>\n",
              "    </tr>\n",
              "    <tr>\n",
              "      <th>top</th>\n",
              "      <td>OI</td>\n",
              "      <td>OI</td>\n",
              "    </tr>\n",
              "    <tr>\n",
              "      <th>freq</th>\n",
              "      <td>11216</td>\n",
              "      <td>2732</td>\n",
              "    </tr>\n",
              "  </tbody>\n",
              "</table>\n",
              "</div>\n",
              "      <button class=\"colab-df-convert\" onclick=\"convertToInteractive('df-36bfeec2-dc60-4f3b-b5f9-553a4a4cb99d')\"\n",
              "              title=\"Convert this dataframe to an interactive table.\"\n",
              "              style=\"display:none;\">\n",
              "        \n",
              "  <svg xmlns=\"http://www.w3.org/2000/svg\" height=\"24px\"viewBox=\"0 0 24 24\"\n",
              "       width=\"24px\">\n",
              "    <path d=\"M0 0h24v24H0V0z\" fill=\"none\"/>\n",
              "    <path d=\"M18.56 5.44l.94 2.06.94-2.06 2.06-.94-2.06-.94-.94-2.06-.94 2.06-2.06.94zm-11 1L8.5 8.5l.94-2.06 2.06-.94-2.06-.94L8.5 2.5l-.94 2.06-2.06.94zm10 10l.94 2.06.94-2.06 2.06-.94-2.06-.94-.94-2.06-.94 2.06-2.06.94z\"/><path d=\"M17.41 7.96l-1.37-1.37c-.4-.4-.92-.59-1.43-.59-.52 0-1.04.2-1.43.59L10.3 9.45l-7.72 7.72c-.78.78-.78 2.05 0 2.83L4 21.41c.39.39.9.59 1.41.59.51 0 1.02-.2 1.41-.59l7.78-7.78 2.81-2.81c.8-.78.8-2.07 0-2.86zM5.41 20L4 18.59l7.72-7.72 1.47 1.35L5.41 20z\"/>\n",
              "  </svg>\n",
              "      </button>\n",
              "      \n",
              "  <style>\n",
              "    .colab-df-container {\n",
              "      display:flex;\n",
              "      flex-wrap:wrap;\n",
              "      gap: 12px;\n",
              "    }\n",
              "\n",
              "    .colab-df-convert {\n",
              "      background-color: #E8F0FE;\n",
              "      border: none;\n",
              "      border-radius: 50%;\n",
              "      cursor: pointer;\n",
              "      display: none;\n",
              "      fill: #1967D2;\n",
              "      height: 32px;\n",
              "      padding: 0 0 0 0;\n",
              "      width: 32px;\n",
              "    }\n",
              "\n",
              "    .colab-df-convert:hover {\n",
              "      background-color: #E2EBFA;\n",
              "      box-shadow: 0px 1px 2px rgba(60, 64, 67, 0.3), 0px 1px 3px 1px rgba(60, 64, 67, 0.15);\n",
              "      fill: #174EA6;\n",
              "    }\n",
              "\n",
              "    [theme=dark] .colab-df-convert {\n",
              "      background-color: #3B4455;\n",
              "      fill: #D2E3FC;\n",
              "    }\n",
              "\n",
              "    [theme=dark] .colab-df-convert:hover {\n",
              "      background-color: #434B5C;\n",
              "      box-shadow: 0px 1px 3px 1px rgba(0, 0, 0, 0.15);\n",
              "      filter: drop-shadow(0px 1px 2px rgba(0, 0, 0, 0.3));\n",
              "      fill: #FFFFFF;\n",
              "    }\n",
              "  </style>\n",
              "\n",
              "      <script>\n",
              "        const buttonEl =\n",
              "          document.querySelector('#df-36bfeec2-dc60-4f3b-b5f9-553a4a4cb99d button.colab-df-convert');\n",
              "        buttonEl.style.display =\n",
              "          google.colab.kernel.accessAllowed ? 'block' : 'none';\n",
              "\n",
              "        async function convertToInteractive(key) {\n",
              "          const element = document.querySelector('#df-36bfeec2-dc60-4f3b-b5f9-553a4a4cb99d');\n",
              "          const dataTable =\n",
              "            await google.colab.kernel.invokeFunction('convertToInteractive',\n",
              "                                                     [key], {});\n",
              "          if (!dataTable) return;\n",
              "\n",
              "          const docLinkHtml = 'Like what you see? Visit the ' +\n",
              "            '<a target=\"_blank\" href=https://colab.research.google.com/notebooks/data_table.ipynb>data table notebook</a>'\n",
              "            + ' to learn more about interactive tables.';\n",
              "          element.innerHTML = '';\n",
              "          dataTable['output_type'] = 'display_data';\n",
              "          await google.colab.output.renderOutput(dataTable, element);\n",
              "          const docLink = document.createElement('div');\n",
              "          docLink.innerHTML = docLinkHtml;\n",
              "          element.appendChild(docLink);\n",
              "        }\n",
              "      </script>\n",
              "    </div>\n",
              "  </div>\n",
              "  "
            ]
          },
          "metadata": {},
          "execution_count": 11
        }
      ],
      "source": [
        "dfs[['NomeFantasiaRFB', 'strNomeFantasia']].describe()"
      ]
    },
    {
      "cell_type": "markdown",
      "metadata": {
        "id": "RTRazYy0YhBl"
      },
      "source": [
        "<h2>8.Qual empresa possui um maior percentual de resolução de reclamações?</h2>\n"
      ]
    },
    {
      "cell_type": "code",
      "execution_count": null,
      "metadata": {
        "colab": {
          "base_uri": "https://localhost:8080/"
        },
        "id": "65lFeP_R2Ytj",
        "outputId": "2ef86692-f44a-45e5-fae6-e4b81216fcdd"
      },
      "outputs": [
        {
          "output_type": "execute_result",
          "data": {
            "text/plain": [
              "Atendida  RazaoSocialRFB                                strRazaoSocial                      \n",
              "S         TELEMAR NORTE LESTE S/A                       TELEMAR NORTE LESTE S/A                 2350\n",
              "          BRUXELAS EMPREENDIMENTOS E PARTICIPACOES S/A  CNOVA COMERCIO ELETRONICO S/A           1761\n",
              "          CLARO S.A.                                    CLARO S/A                               1491\n",
              "                                                        CLARO S.A.                              1296\n",
              "          SAMSUNG ELETRONICA DA AMAZONIA LTDA           SAMSUNG ELETRONICA DA AMAZONIA LTDA     1244\n",
              "                                                                                                ... \n",
              "N         RUBENS DA SILVA MEIRELES 22155436807          RUBENS DA SILVA MEIRELES 22155436807       1\n",
              "          RUBENS CARUSO DECORACOES - ME                 RUBENS CARUSO DECORACOES - ME              1\n",
              "          RUBENS & THIAGO GAMES LTDA - ME               RUBENS E THIAGO GAMES LTDA                 1\n",
              "          RTX COMERCIAL E SERVICOS LTDA - ME            RTX COMERCIAL E SERVICOS LTDA - ME         1\n",
              "S         ZZAB COMERCIO DE CALCADOS LTDA.               ZZAB COMERCIO DE CALCALDOS LTDA            1\n",
              "Length: 32528, dtype: int64"
            ]
          },
          "metadata": {},
          "execution_count": 12
        }
      ],
      "source": [
        "dfs [['Atendida','RazaoSocialRFB', 'strRazaoSocial']].value_counts()"
      ]
    },
    {
      "cell_type": "code",
      "execution_count": null,
      "metadata": {
        "colab": {
          "base_uri": "https://localhost:8080/"
        },
        "id": "3ZC-V597i94F",
        "outputId": "20cfda8a-ffe0-46f6-c897-844a7c7d7271"
      },
      "outputs": [
        {
          "output_type": "execute_result",
          "data": {
            "text/plain": [
              "(4749, 23)"
            ]
          },
          "metadata": {},
          "execution_count": 13
        }
      ],
      "source": [
        "dfs [dfs['RazaoSocialRFB']=='TELEMAR NORTE LESTE S/A'].shape"
      ]
    },
    {
      "cell_type": "code",
      "execution_count": null,
      "metadata": {
        "colab": {
          "base_uri": "https://localhost:8080/"
        },
        "id": "R1-koZd0pAdT",
        "outputId": "8d628d66-6e3f-4e09-b935-898b26df8097"
      },
      "outputs": [
        {
          "output_type": "stream",
          "name": "stdout",
          "text": [
            "79.15350600126342\n"
          ]
        }
      ],
      "source": [
        "prob = (3759/4749)*100\n",
        "print(prob)"
      ]
    },
    {
      "cell_type": "markdown",
      "metadata": {
        "id": "T47JUGdIYj9Y"
      },
      "source": [
        "<h2>9.Monte um gráfico mostrando a quantidade de reclamações por região, separando as mesmas por sexo.</h2>"
      ]
    },
    {
      "cell_type": "code",
      "execution_count": null,
      "metadata": {
        "id": "dX8vq0nK2IU4"
      },
      "outputs": [],
      "source": [
        "dfs_temp = dfs[['Regiao','SexoConsumidor']]"
      ]
    },
    {
      "cell_type": "code",
      "execution_count": null,
      "metadata": {
        "colab": {
          "base_uri": "https://localhost:8080/",
          "height": 296
        },
        "id": "XkuCIOl72cSn",
        "outputId": "9be21b2b-6575-418c-d148-06def2a356f1"
      },
      "outputs": [
        {
          "output_type": "execute_result",
          "data": {
            "text/plain": [
              "<matplotlib.axes._subplots.AxesSubplot at 0x7fe6a00d7990>"
            ]
          },
          "metadata": {},
          "execution_count": 16
        },
        {
          "output_type": "display_data",
          "data": {
            "text/plain": [
              "<Figure size 432x288 with 1 Axes>"
            ],
            "image/png": "[encoded data removed]"
          },
          "metadata": {
            "needs_background": "light"
          }
        }
      ],
      "source": [
        "sns.countplot(x='Regiao', hue='SexoConsumidor',data=dfs_temp)"
      ]
    },
    {
      "cell_type": "markdown",
      "metadata": {
        "id": "Q8JJxN01YmIs"
      },
      "source": [
        "<h2>10.Elabore um gráfico de linhas com a quantidade de reclamações por mês. "
      ]
    },
    {
      "cell_type": "code",
      "execution_count": null,
      "metadata": {
        "id": "tB1atS8epJPq"
      },
      "outputs": [],
      "source": [
        "dfs ['DataAbertura'] = dfs ['DataAbertura'].astype('datetime64')"
      ]
    },
    {
      "cell_type": "code",
      "execution_count": null,
      "metadata": {
        "id": "vj0fzvHPrm5Y"
      },
      "outputs": [],
      "source": [
        "dfs_month = dfs ['DataAbertura'].dt.month"
      ]
    },
    {
      "cell_type": "code",
      "execution_count": null,
      "metadata": {
        "id": "pd1-x2GBT4md"
      },
      "outputs": [],
      "source": [
        "dfs_monthDados = dfs_month.value_counts()"
      ]
    },
    {
      "cell_type": "code",
      "execution_count": null,
      "metadata": {
        "colab": {
          "base_uri": "https://localhost:8080/",
          "height": 370
        },
        "id": "KDkPC4ldVFOC",
        "outputId": "365ec695-64ba-49b4-d69d-05f898f65dd0"
      },
      "outputs": [
        {
          "output_type": "stream",
          "name": "stderr",
          "text": [
            "/usr/local/lib/python3.7/dist-packages/seaborn/_decorators.py:43: FutureWarning: Pass the following variables as keyword args: x, y. From version 0.12, the only valid positional argument will be `data`, and passing other arguments without an explicit keyword will result in an error or misinterpretation.\n",
            "  FutureWarning\n"
          ]
        },
        {
          "output_type": "execute_result",
          "data": {
            "text/plain": [
              "Text(0.5, 0, 'Mes')"
            ]
          },
          "metadata": {},
          "execution_count": 20
        },
        {
          "output_type": "display_data",
          "data": {
            "text/plain": [
              "<Figure size 432x288 with 1 Axes>"
            ],
            "image/png": "[encoded data removed]"
          },
          "metadata": {
            "needs_background": "light"
          }
        }
      ],
      "source": [
        "sns.lineplot(dfs_monthDados.index, dfs_monthDados.values, alpha=0.8)\n",
        "plt.title('Numero de reclamações por Mes')\n",
        "plt.ylabel('Reclamações', fontsize=12)\n",
        "plt.xlabel('Mes', fontsize=12)"
      ]
    },
    {
      "cell_type": "code",
      "execution_count": null,
      "metadata": {
        "colab": {
          "base_uri": "https://localhost:8080/",
          "height": 298
        },
        "id": "bW3bCDoV5kd6",
        "outputId": "8fbbc1fd-ef65-414f-828e-74301cbcb161"
      },
      "outputs": [
        {
          "output_type": "execute_result",
          "data": {
            "text/plain": [
              "<matplotlib.axes._subplots.AxesSubplot at 0x7fe69c810890>"
            ]
          },
          "metadata": {},
          "execution_count": 21
        },
        {
          "output_type": "display_data",
          "data": {
            "text/plain": [
              "<Figure size 432x288 with 1 Axes>"
            ],
            "image/png": "[encoded data removed]"
          },
          "metadata": {
            "needs_background": "light"
          }
        }
      ],
      "source": [
        "#Gráfico pode ser feito dessa forma também\n",
        "sns.kdeplot(dfs_month)"
      ]
    },
    {
      "cell_type": "markdown",
      "metadata": {
        "id": "jOuve648Yo8v"
      },
      "source": [
        "<h2>11.Elabore um gráfico boxplot mostrando a duração das reclamações por região.</h2>\n",
        "\n",
        "\n"
      ]
    },
    {
      "cell_type": "code",
      "source": [
        "dfs.info()"
      ],
      "metadata": {
        "colab": {
          "base_uri": "https://localhost:8080/"
        },
        "id": "gaF8WnU8_Hl-",
        "outputId": "c25bc48d-e587-4b07-d7ea-e17c03c1c974"
      },
      "execution_count": null,
      "outputs": [
        {
          "output_type": "stream",
          "name": "stdout",
          "text": [
            "<class 'pandas.core.frame.DataFrame'>\n",
            "RangeIndex: 203486 entries, 0 to 203485\n",
            "Data columns (total 23 columns):\n",
            " #   Column                 Non-Null Count   Dtype         \n",
            "---  ------                 --------------   -----         \n",
            " 0   ï»¿AnoCalendario       203486 non-null  int64         \n",
            " 1   DataArquivamento       203486 non-null  object        \n",
            " 2   DataAbertura           203486 non-null  datetime64[ns]\n",
            " 3   CodigoRegiao           203486 non-null  int64         \n",
            " 4   Regiao                 203486 non-null  object        \n",
            " 5   UF                     203486 non-null  object        \n",
            " 6   strRazaoSocial         203483 non-null  object        \n",
            " 7   strNomeFantasia        173722 non-null  object        \n",
            " 8   Tipo                   203486 non-null  int64         \n",
            " 9   NumeroCNPJ             195292 non-null  float64       \n",
            " 10  RadicalCNPJ            195292 non-null  float64       \n",
            " 11  RazaoSocialRFB         187287 non-null  object        \n",
            " 12  NomeFantasiaRFB        92561 non-null   object        \n",
            " 13  CNAEPrincipal          187287 non-null  float64       \n",
            " 14  DescCNAEPrincipal      185784 non-null  object        \n",
            " 15  Atendida               203486 non-null  object        \n",
            " 16  CodigoAssunto          203486 non-null  int64         \n",
            " 17  DescricaoAssunto       203486 non-null  object        \n",
            " 18  CodigoProblema         203476 non-null  float64       \n",
            " 19  DescricaoProblema      203476 non-null  object        \n",
            " 20  SexoConsumidor         203484 non-null  object        \n",
            " 21  FaixaEtariaConsumidor  203486 non-null  object        \n",
            " 22  CEPConsumidor          189400 non-null  float64       \n",
            "dtypes: datetime64[ns](1), float64(5), int64(4), object(13)\n",
            "memory usage: 35.7+ MB\n"
          ]
        }
      ]
    },
    {
      "cell_type": "code",
      "source": [
        "dfs['DataArquivamento'] = dfs ['DataArquivamento'].astype('datetime64')"
      ],
      "metadata": {
        "id": "gbWb54nLWcEF"
      },
      "execution_count": null,
      "outputs": []
    },
    {
      "cell_type": "code",
      "source": [
        "dfs['DataArquivamento'].dt.day"
      ],
      "metadata": {
        "colab": {
          "base_uri": "https://localhost:8080/"
        },
        "id": "k8aFhD-uW7e7",
        "outputId": "d8fc3b51-ac4c-4df0-8d23-e6c0656ea443"
      },
      "execution_count": null,
      "outputs": [
        {
          "output_type": "execute_result",
          "data": {
            "text/plain": [
              "0         17\n",
              "1         15\n",
              "2         16\n",
              "3         18\n",
              "4          9\n",
              "          ..\n",
              "203481    24\n",
              "203482    27\n",
              "203483    21\n",
              "203484    16\n",
              "203485    21\n",
              "Name: DataArquivamento, Length: 203486, dtype: int64"
            ]
          },
          "metadata": {},
          "execution_count": 24
        }
      ]
    },
    {
      "cell_type": "code",
      "source": [
        "dfs['DataAbertura'].dt.day"
      ],
      "metadata": {
        "colab": {
          "base_uri": "https://localhost:8080/"
        },
        "id": "zamCX7YGXFQO",
        "outputId": "200f5128-3569-4c41-f39b-0b6a03ae409e"
      },
      "execution_count": null,
      "outputs": [
        {
          "output_type": "execute_result",
          "data": {
            "text/plain": [
              "0         29\n",
              "1         18\n",
              "2         29\n",
              "3         21\n",
              "4          7\n",
              "          ..\n",
              "203481     6\n",
              "203482     2\n",
              "203483    29\n",
              "203484    19\n",
              "203485    19\n",
              "Name: DataAbertura, Length: 203486, dtype: int64"
            ]
          },
          "metadata": {},
          "execution_count": 25
        }
      ]
    },
    {
      "cell_type": "code",
      "source": [
        "dfs['Diferença']=dfs['DataArquivamento']-dfs['DataAbertura']\n"
      ],
      "metadata": {
        "id": "LHpuY55wXMfE"
      },
      "execution_count": null,
      "outputs": []
    },
    {
      "cell_type": "code",
      "source": [
        "dfs[dfs.Diferença.duplicated()]"
      ],
      "metadata": {
        "colab": {
          "base_uri": "https://localhost:8080/",
          "height": 956
        },
        "id": "TwqbmvK_XxXS",
        "outputId": "5f554cb8-3ac2-4632-d7e4-1fbc5b4df643"
      },
      "execution_count": null,
      "outputs": [
        {
          "output_type": "execute_result",
          "data": {
            "text/plain": [
              "        ï»¿AnoCalendario    DataArquivamento        DataAbertura  \\\n",
              "128                 2016 2016-07-08 11:17:04 2014-05-09 08:45:28   \n",
              "130                 2016 2016-06-17 10:39:03 2014-05-20 09:08:31   \n",
              "134                 2016 2016-07-05 10:15:15 2014-02-11 11:46:14   \n",
              "139                 2016 2016-11-09 12:12:58 2016-10-11 11:12:53   \n",
              "142                 2016 2016-11-25 16:12:06 2016-10-31 15:19:54   \n",
              "...                  ...                 ...                 ...   \n",
              "203418              2016 2016-07-12 08:54:32 2016-06-20 11:38:30   \n",
              "203419              2016 2016-07-12 08:54:32 2016-06-20 11:38:30   \n",
              "203438              2016 2016-11-09 13:23:55 2016-08-01 08:46:29   \n",
              "203452              2016 2016-05-31 10:28:22 2016-04-25 10:40:31   \n",
              "203463              2016 2016-08-25 15:10:44 2016-07-12 13:43:29   \n",
              "\n",
              "        CodigoRegiao    Regiao  UF  \\\n",
              "128                2  Nordeste  PI   \n",
              "130                2  Nordeste  PI   \n",
              "134                2  Nordeste  PI   \n",
              "139                4       Sul  SC   \n",
              "142                4       Sul  SC   \n",
              "...              ...       ...  ..   \n",
              "203418             2  Nordeste  PE   \n",
              "203419             2  Nordeste  PE   \n",
              "203438             3   Sudeste  SP   \n",
              "203452             3   Sudeste  SP   \n",
              "203463             3   Sudeste  SP   \n",
              "\n",
              "                                          strRazaoSocial  \\\n",
              "128                                LOJAS INSINUANTE LTDA   \n",
              "130                             POSITIVO INFORMATICA S/A   \n",
              "134                             POSITIVO INFORMATICA S/A   \n",
              "139                                           MASTERCELL   \n",
              "142           ALLTECH INFORMATICA E TECNOLOGIA LTDA - ME   \n",
              "...                                                  ...   \n",
              "203418                    CNOVA COMÃRCIO ELETRONICO S.A   \n",
              "203419                          L. S. DE LIRA ELETRONICA   \n",
              "203438  UNIDADE EDUCACIONAL DE ENSINO MEDIO ALCANCE LTDA   \n",
              "203452    MAX PLUS EQUIPAMENTOS DE SEGURANÃA LTDA - EPP   \n",
              "203463         EMBRACON ADMINISTRADORA DE CONSORCIO LTDA   \n",
              "\n",
              "                                          strNomeFantasia  Tipo    NumeroCNPJ  \\\n",
              "128                                      LOJAS INSINUANTE     1  1.618283e+13   \n",
              "130                                  POSITIVO INFORMATICA     1  8.124374e+13   \n",
              "134                                  POSITIVO INFORMATICA     1  8.124374e+13   \n",
              "139                                                   NaN     1  2.455036e+12   \n",
              "142                                                   NaN     1  1.975691e+12   \n",
              "...                                                   ...   ...           ...   \n",
              "203418  EXTRA.COM CASASBAHIA.COM PONTOFRIO.COM EHUB.CO...     1  9.358108e+12   \n",
              "203419                                     DIGITAL CENTER     1  8.742286e+12   \n",
              "203438                                                NaN     1  8.771977e+12   \n",
              "203452                                           MAX LINE     1  1.818972e+13   \n",
              "203463                                                NaN     1  5.811381e+13   \n",
              "\n",
              "        ...                                  DescCNAEPrincipal Atendida  \\\n",
              "128     ...  COMÃRCIO VAREJISTA ESPECIALIZADO DE ELETRODOM...        S   \n",
              "130     ...       FABRICAÃÃO DE EQUIPAMENTOS DE INFORMÃTICA        S   \n",
              "134     ...       FABRICAÃÃO DE EQUIPAMENTOS DE INFORMÃTICA        S   \n",
              "139     ...                                                NaN        N   \n",
              "142     ...                                                NaN        S   \n",
              "...     ...                                                ...      ...   \n",
              "203418  ...                LOJAS DE DEPARTAMENTOS OU MAGAZINES        S   \n",
              "203419  ...  REPARAÃÃO E MANUTENÃÃO DE EQUIPAMENTOS ELE...        S   \n",
              "203438  ...                                      ENSINO MÃDIO        N   \n",
              "203452  ...  COMÃRCIO VAREJISTA DE OUTROS ARTIGOS DE USO D...        N   \n",
              "203463  ...  ADMINISTRAÃÃO DE CONSÃRCIOS PARA AQUISIÃÃ...        N   \n",
              "\n",
              "       CodigoAssunto                                   DescricaoAssunto  \\\n",
              "128               96  TelevisÃ£o / VÃ­deo Cassete / Filmadora / Vide...   \n",
              "130              102         Microcomputador / Produtos de InformÃ¡tica   \n",
              "134              102         Microcomputador / Produtos de InformÃ¡tica   \n",
              "139               88  AcessÃ³rio para Aparelho EletrÃ´nico/Pilha/ElÃ...   \n",
              "142               88  AcessÃ³rio para Aparelho EletrÃ´nico/Pilha/ElÃ...   \n",
              "...              ...                                                ...   \n",
              "203418           288                           MÃ¡quinas e Equipamentos   \n",
              "203419           288                           MÃ¡quinas e Equipamentos   \n",
              "203438           233         Escola ( PrÃ©, 1Âº, 2Âº Graus e Superior )   \n",
              "203452            96  TelevisÃ£o / VÃ­deo Cassete / Filmadora / Vide...   \n",
              "203463            79                                             Seguro   \n",
              "\n",
              "       CodigoProblema                          DescricaoProblema  \\\n",
              "128             105.0                         Produto com vÃ­cio   \n",
              "130             105.0                         Produto com vÃ­cio   \n",
              "134             105.0                         Produto com vÃ­cio   \n",
              "139             105.0                         Produto com vÃ­cio   \n",
              "142             107.0  NÃ£o entrega/demora na entrega do produto   \n",
              "...               ...                                        ...   \n",
              "203418          105.0                         Produto com vÃ­cio   \n",
              "203419          105.0                         Produto com vÃ­cio   \n",
              "203438          194.0                 CobranÃ§a indevida/abusiva   \n",
              "203452          111.0                             Venda enganosa   \n",
              "203463           62.0            NÃ£o pagamento de indenizaÃ§Ã£o   \n",
              "\n",
              "        SexoConsumidor FaixaEtariaConsumidor  CEPConsumidor         Diferença  \n",
              "128                  M         Nao Informada     64040220.0 791 days 02:31:36  \n",
              "130                  F    entre 41 a 50 anos            NaN 759 days 01:30:32  \n",
              "134                  F         Nao Informada     64360000.0 874 days 22:29:01  \n",
              "139                  M         Nao Informada     89223130.0  29 days 01:00:05  \n",
              "142                  M    entre 31 a 40 anos     89221006.0  25 days 00:52:12  \n",
              "...                ...                   ...            ...               ...  \n",
              "203418               M    entre 21 a 30 anos     50610370.0  21 days 21:16:02  \n",
              "203419               M    entre 21 a 30 anos     50610370.0  21 days 21:16:02  \n",
              "203438               M    entre 31 a 40 anos      4859070.0 100 days 04:37:26  \n",
              "203452               M         Nao Informada     13457074.0  35 days 23:47:51  \n",
              "203463               F         Nao Informada            NaN  44 days 01:27:15  \n",
              "\n",
              "[35870 rows x 24 columns]"
            ],
            "text/html": [
              "\n",
              "  <div id=\"df-caa8a39a-6497-4265-8e9e-2d1ae59dd569\">\n",
              "    <div class=\"colab-df-container\">\n",
              "      <div>\n",
              "<style scoped>\n",
              "    .dataframe tbody tr th:only-of-type {\n",
              "        vertical-align: middle;\n",
              "    }\n",
              "\n",
              "    .dataframe tbody tr th {\n",
              "        vertical-align: top;\n",
              "    }\n",
              "\n",
              "    .dataframe thead th {\n",
              "        text-align: right;\n",
              "    }\n",
              "</style>\n",
              "<table border=\"1\" class=\"dataframe\">\n",
              "  <thead>\n",
              "    <tr style=\"text-align: right;\">\n",
              "      <th></th>\n",
              "      <th>ï»¿AnoCalendario</th>\n",
              "      <th>DataArquivamento</th>\n",
              "      <th>DataAbertura</th>\n",
              "      <th>CodigoRegiao</th>\n",
              "      <th>Regiao</th>\n",
              "      <th>UF</th>\n",
              "      <th>strRazaoSocial</th>\n",
              "      <th>strNomeFantasia</th>\n",
              "      <th>Tipo</th>\n",
              "      <th>NumeroCNPJ</th>\n",
              "      <th>...</th>\n",
              "      <th>DescCNAEPrincipal</th>\n",
              "      <th>Atendida</th>\n",
              "      <th>CodigoAssunto</th>\n",
              "      <th>DescricaoAssunto</th>\n",
              "      <th>CodigoProblema</th>\n",
              "      <th>DescricaoProblema</th>\n",
              "      <th>SexoConsumidor</th>\n",
              "      <th>FaixaEtariaConsumidor</th>\n",
              "      <th>CEPConsumidor</th>\n",
              "      <th>Diferença</th>\n",
              "    </tr>\n",
              "  </thead>\n",
              "  <tbody>\n",
              "    <tr>\n",
              "      <th>128</th>\n",
              "      <td>2016</td>\n",
              "      <td>2016-07-08 11:17:04</td>\n",
              "      <td>2014-05-09 08:45:28</td>\n",
              "      <td>2</td>\n",
              "      <td>Nordeste</td>\n",
              "      <td>PI</td>\n",
              "      <td>LOJAS INSINUANTE LTDA</td>\n",
              "      <td>LOJAS INSINUANTE</td>\n",
              "      <td>1</td>\n",
              "      <td>1.618283e+13</td>\n",
              "      <td>...</td>\n",
              "      <td>COMÃRCIO VAREJISTA ESPECIALIZADO DE ELETRODOM...</td>\n",
              "      <td>S</td>\n",
              "      <td>96</td>\n",
              "      <td>TelevisÃ£o / VÃ­deo Cassete / Filmadora / Vide...</td>\n",
              "      <td>105.0</td>\n",
              "      <td>Produto com vÃ­cio</td>\n",
              "      <td>M</td>\n",
              "      <td>Nao Informada</td>\n",
              "      <td>64040220.0</td>\n",
              "      <td>791 days 02:31:36</td>\n",
              "    </tr>\n",
              "    <tr>\n",
              "      <th>130</th>\n",
              "      <td>2016</td>\n",
              "      <td>2016-06-17 10:39:03</td>\n",
              "      <td>2014-05-20 09:08:31</td>\n",
              "      <td>2</td>\n",
              "      <td>Nordeste</td>\n",
              "      <td>PI</td>\n",
              "      <td>POSITIVO INFORMATICA S/A</td>\n",
              "      <td>POSITIVO INFORMATICA</td>\n",
              "      <td>1</td>\n",
              "      <td>8.124374e+13</td>\n",
              "      <td>...</td>\n",
              "      <td>FABRICAÃÃO DE EQUIPAMENTOS DE INFORMÃTICA</td>\n",
              "      <td>S</td>\n",
              "      <td>102</td>\n",
              "      <td>Microcomputador / Produtos de InformÃ¡tica</td>\n",
              "      <td>105.0</td>\n",
              "      <td>Produto com vÃ­cio</td>\n",
              "      <td>F</td>\n",
              "      <td>entre 41 a 50 anos</td>\n",
              "      <td>NaN</td>\n",
              "      <td>759 days 01:30:32</td>\n",
              "    </tr>\n",
              "    <tr>\n",
              "      <th>134</th>\n",
              "      <td>2016</td>\n",
              "      <td>2016-07-05 10:15:15</td>\n",
              "      <td>2014-02-11 11:46:14</td>\n",
              "      <td>2</td>\n",
              "      <td>Nordeste</td>\n",
              "      <td>PI</td>\n",
              "      <td>POSITIVO INFORMATICA S/A</td>\n",
              "      <td>POSITIVO INFORMATICA</td>\n",
              "      <td>1</td>\n",
              "      <td>8.124374e+13</td>\n",
              "      <td>...</td>\n",
              "      <td>FABRICAÃÃO DE EQUIPAMENTOS DE INFORMÃTICA</td>\n",
              "      <td>S</td>\n",
              "      <td>102</td>\n",
              "      <td>Microcomputador / Produtos de InformÃ¡tica</td>\n",
              "      <td>105.0</td>\n",
              "      <td>Produto com vÃ­cio</td>\n",
              "      <td>F</td>\n",
              "      <td>Nao Informada</td>\n",
              "      <td>64360000.0</td>\n",
              "      <td>874 days 22:29:01</td>\n",
              "    </tr>\n",
              "    <tr>\n",
              "      <th>139</th>\n",
              "      <td>2016</td>\n",
              "      <td>2016-11-09 12:12:58</td>\n",
              "      <td>2016-10-11 11:12:53</td>\n",
              "      <td>4</td>\n",
              "      <td>Sul</td>\n",
              "      <td>SC</td>\n",
              "      <td>MASTERCELL</td>\n",
              "      <td>NaN</td>\n",
              "      <td>1</td>\n",
              "      <td>2.455036e+12</td>\n",
              "      <td>...</td>\n",
              "      <td>NaN</td>\n",
              "      <td>N</td>\n",
              "      <td>88</td>\n",
              "      <td>AcessÃ³rio para Aparelho EletrÃ´nico/Pilha/ElÃ...</td>\n",
              "      <td>105.0</td>\n",
              "      <td>Produto com vÃ­cio</td>\n",
              "      <td>M</td>\n",
              "      <td>Nao Informada</td>\n",
              "      <td>89223130.0</td>\n",
              "      <td>29 days 01:00:05</td>\n",
              "    </tr>\n",
              "    <tr>\n",
              "      <th>142</th>\n",
              "      <td>2016</td>\n",
              "      <td>2016-11-25 16:12:06</td>\n",
              "      <td>2016-10-31 15:19:54</td>\n",
              "      <td>4</td>\n",
              "      <td>Sul</td>\n",
              "      <td>SC</td>\n",
              "      <td>ALLTECH INFORMATICA E TECNOLOGIA LTDA - ME</td>\n",
              "      <td>NaN</td>\n",
              "      <td>1</td>\n",
              "      <td>1.975691e+12</td>\n",
              "      <td>...</td>\n",
              "      <td>NaN</td>\n",
              "      <td>S</td>\n",
              "      <td>88</td>\n",
              "      <td>AcessÃ³rio para Aparelho EletrÃ´nico/Pilha/ElÃ...</td>\n",
              "      <td>107.0</td>\n",
              "      <td>NÃ£o entrega/demora na entrega do produto</td>\n",
              "      <td>M</td>\n",
              "      <td>entre 31 a 40 anos</td>\n",
              "      <td>89221006.0</td>\n",
              "      <td>25 days 00:52:12</td>\n",
              "    </tr>\n",
              "    <tr>\n",
              "      <th>...</th>\n",
              "      <td>...</td>\n",
              "      <td>...</td>\n",
              "      <td>...</td>\n",
              "      <td>...</td>\n",
              "      <td>...</td>\n",
              "      <td>...</td>\n",
              "      <td>...</td>\n",
              "      <td>...</td>\n",
              "      <td>...</td>\n",
              "      <td>...</td>\n",
              "      <td>...</td>\n",
              "      <td>...</td>\n",
              "      <td>...</td>\n",
              "      <td>...</td>\n",
              "      <td>...</td>\n",
              "      <td>...</td>\n",
              "      <td>...</td>\n",
              "      <td>...</td>\n",
              "      <td>...</td>\n",
              "      <td>...</td>\n",
              "      <td>...</td>\n",
              "    </tr>\n",
              "    <tr>\n",
              "      <th>203418</th>\n",
              "      <td>2016</td>\n",
              "      <td>2016-07-12 08:54:32</td>\n",
              "      <td>2016-06-20 11:38:30</td>\n",
              "      <td>2</td>\n",
              "      <td>Nordeste</td>\n",
              "      <td>PE</td>\n",
              "      <td>CNOVA COMÃRCIO ELETRONICO S.A</td>\n",
              "      <td>EXTRA.COM CASASBAHIA.COM PONTOFRIO.COM EHUB.CO...</td>\n",
              "      <td>1</td>\n",
              "      <td>9.358108e+12</td>\n",
              "      <td>...</td>\n",
              "      <td>LOJAS DE DEPARTAMENTOS OU MAGAZINES</td>\n",
              "      <td>S</td>\n",
              "      <td>288</td>\n",
              "      <td>MÃ¡quinas e Equipamentos</td>\n",
              "      <td>105.0</td>\n",
              "      <td>Produto com vÃ­cio</td>\n",
              "      <td>M</td>\n",
              "      <td>entre 21 a 30 anos</td>\n",
              "      <td>50610370.0</td>\n",
              "      <td>21 days 21:16:02</td>\n",
              "    </tr>\n",
              "    <tr>\n",
              "      <th>203419</th>\n",
              "      <td>2016</td>\n",
              "      <td>2016-07-12 08:54:32</td>\n",
              "      <td>2016-06-20 11:38:30</td>\n",
              "      <td>2</td>\n",
              "      <td>Nordeste</td>\n",
              "      <td>PE</td>\n",
              "      <td>L. S. DE LIRA ELETRONICA</td>\n",
              "      <td>DIGITAL CENTER</td>\n",
              "      <td>1</td>\n",
              "      <td>8.742286e+12</td>\n",
              "      <td>...</td>\n",
              "      <td>REPARAÃÃO E MANUTENÃÃO DE EQUIPAMENTOS ELE...</td>\n",
              "      <td>S</td>\n",
              "      <td>288</td>\n",
              "      <td>MÃ¡quinas e Equipamentos</td>\n",
              "      <td>105.0</td>\n",
              "      <td>Produto com vÃ­cio</td>\n",
              "      <td>M</td>\n",
              "      <td>entre 21 a 30 anos</td>\n",
              "      <td>50610370.0</td>\n",
              "      <td>21 days 21:16:02</td>\n",
              "    </tr>\n",
              "    <tr>\n",
              "      <th>203438</th>\n",
              "      <td>2016</td>\n",
              "      <td>2016-11-09 13:23:55</td>\n",
              "      <td>2016-08-01 08:46:29</td>\n",
              "      <td>3</td>\n",
              "      <td>Sudeste</td>\n",
              "      <td>SP</td>\n",
              "      <td>UNIDADE EDUCACIONAL DE ENSINO MEDIO ALCANCE LTDA</td>\n",
              "      <td>NaN</td>\n",
              "      <td>1</td>\n",
              "      <td>8.771977e+12</td>\n",
              "      <td>...</td>\n",
              "      <td>ENSINO MÃDIO</td>\n",
              "      <td>N</td>\n",
              "      <td>233</td>\n",
              "      <td>Escola ( PrÃ©, 1Âº, 2Âº Graus e Superior )</td>\n",
              "      <td>194.0</td>\n",
              "      <td>CobranÃ§a indevida/abusiva</td>\n",
              "      <td>M</td>\n",
              "      <td>entre 31 a 40 anos</td>\n",
              "      <td>4859070.0</td>\n",
              "      <td>100 days 04:37:26</td>\n",
              "    </tr>\n",
              "    <tr>\n",
              "      <th>203452</th>\n",
              "      <td>2016</td>\n",
              "      <td>2016-05-31 10:28:22</td>\n",
              "      <td>2016-04-25 10:40:31</td>\n",
              "      <td>3</td>\n",
              "      <td>Sudeste</td>\n",
              "      <td>SP</td>\n",
              "      <td>MAX PLUS EQUIPAMENTOS DE SEGURANÃA LTDA - EPP</td>\n",
              "      <td>MAX LINE</td>\n",
              "      <td>1</td>\n",
              "      <td>1.818972e+13</td>\n",
              "      <td>...</td>\n",
              "      <td>COMÃRCIO VAREJISTA DE OUTROS ARTIGOS DE USO D...</td>\n",
              "      <td>N</td>\n",
              "      <td>96</td>\n",
              "      <td>TelevisÃ£o / VÃ­deo Cassete / Filmadora / Vide...</td>\n",
              "      <td>111.0</td>\n",
              "      <td>Venda enganosa</td>\n",
              "      <td>M</td>\n",
              "      <td>Nao Informada</td>\n",
              "      <td>13457074.0</td>\n",
              "      <td>35 days 23:47:51</td>\n",
              "    </tr>\n",
              "    <tr>\n",
              "      <th>203463</th>\n",
              "      <td>2016</td>\n",
              "      <td>2016-08-25 15:10:44</td>\n",
              "      <td>2016-07-12 13:43:29</td>\n",
              "      <td>3</td>\n",
              "      <td>Sudeste</td>\n",
              "      <td>SP</td>\n",
              "      <td>EMBRACON ADMINISTRADORA DE CONSORCIO LTDA</td>\n",
              "      <td>NaN</td>\n",
              "      <td>1</td>\n",
              "      <td>5.811381e+13</td>\n",
              "      <td>...</td>\n",
              "      <td>ADMINISTRAÃÃO DE CONSÃRCIOS PARA AQUISIÃÃ...</td>\n",
              "      <td>N</td>\n",
              "      <td>79</td>\n",
              "      <td>Seguro</td>\n",
              "      <td>62.0</td>\n",
              "      <td>NÃ£o pagamento de indenizaÃ§Ã£o</td>\n",
              "      <td>F</td>\n",
              "      <td>Nao Informada</td>\n",
              "      <td>NaN</td>\n",
              "      <td>44 days 01:27:15</td>\n",
              "    </tr>\n",
              "  </tbody>\n",
              "</table>\n",
              "<p>35870 rows × 24 columns</p>\n",
              "</div>\n",
              "      <button class=\"colab-df-convert\" onclick=\"convertToInteractive('df-caa8a39a-6497-4265-8e9e-2d1ae59dd569')\"\n",
              "              title=\"Convert this dataframe to an interactive table.\"\n",
              "              style=\"display:none;\">\n",
              "        \n",
              "  <svg xmlns=\"http://www.w3.org/2000/svg\" height=\"24px\"viewBox=\"0 0 24 24\"\n",
              "       width=\"24px\">\n",
              "    <path d=\"M0 0h24v24H0V0z\" fill=\"none\"/>\n",
              "    <path d=\"M18.56 5.44l.94 2.06.94-2.06 2.06-.94-2.06-.94-.94-2.06-.94 2.06-2.06.94zm-11 1L8.5 8.5l.94-2.06 2.06-.94-2.06-.94L8.5 2.5l-.94 2.06-2.06.94zm10 10l.94 2.06.94-2.06 2.06-.94-2.06-.94-.94-2.06-.94 2.06-2.06.94z\"/><path d=\"M17.41 7.96l-1.37-1.37c-.4-.4-.92-.59-1.43-.59-.52 0-1.04.2-1.43.59L10.3 9.45l-7.72 7.72c-.78.78-.78 2.05 0 2.83L4 21.41c.39.39.9.59 1.41.59.51 0 1.02-.2 1.41-.59l7.78-7.78 2.81-2.81c.8-.78.8-2.07 0-2.86zM5.41 20L4 18.59l7.72-7.72 1.47 1.35L5.41 20z\"/>\n",
              "  </svg>\n",
              "      </button>\n",
              "      \n",
              "  <style>\n",
              "    .colab-df-container {\n",
              "      display:flex;\n",
              "      flex-wrap:wrap;\n",
              "      gap: 12px;\n",
              "    }\n",
              "\n",
              "    .colab-df-convert {\n",
              "      background-color: #E8F0FE;\n",
              "      border: none;\n",
              "      border-radius: 50%;\n",
              "      cursor: pointer;\n",
              "      display: none;\n",
              "      fill: #1967D2;\n",
              "      height: 32px;\n",
              "      padding: 0 0 0 0;\n",
              "      width: 32px;\n",
              "    }\n",
              "\n",
              "    .colab-df-convert:hover {\n",
              "      background-color: #E2EBFA;\n",
              "      box-shadow: 0px 1px 2px rgba(60, 64, 67, 0.3), 0px 1px 3px 1px rgba(60, 64, 67, 0.15);\n",
              "      fill: #174EA6;\n",
              "    }\n",
              "\n",
              "    [theme=dark] .colab-df-convert {\n",
              "      background-color: #3B4455;\n",
              "      fill: #D2E3FC;\n",
              "    }\n",
              "\n",
              "    [theme=dark] .colab-df-convert:hover {\n",
              "      background-color: #434B5C;\n",
              "      box-shadow: 0px 1px 3px 1px rgba(0, 0, 0, 0.15);\n",
              "      filter: drop-shadow(0px 1px 2px rgba(0, 0, 0, 0.3));\n",
              "      fill: #FFFFFF;\n",
              "    }\n",
              "  </style>\n",
              "\n",
              "      <script>\n",
              "        const buttonEl =\n",
              "          document.querySelector('#df-caa8a39a-6497-4265-8e9e-2d1ae59dd569 button.colab-df-convert');\n",
              "        buttonEl.style.display =\n",
              "          google.colab.kernel.accessAllowed ? 'block' : 'none';\n",
              "\n",
              "        async function convertToInteractive(key) {\n",
              "          const element = document.querySelector('#df-caa8a39a-6497-4265-8e9e-2d1ae59dd569');\n",
              "          const dataTable =\n",
              "            await google.colab.kernel.invokeFunction('convertToInteractive',\n",
              "                                                     [key], {});\n",
              "          if (!dataTable) return;\n",
              "\n",
              "          const docLinkHtml = 'Like what you see? Visit the ' +\n",
              "            '<a target=\"_blank\" href=https://colab.research.google.com/notebooks/data_table.ipynb>data table notebook</a>'\n",
              "            + ' to learn more about interactive tables.';\n",
              "          element.innerHTML = '';\n",
              "          dataTable['output_type'] = 'display_data';\n",
              "          await google.colab.output.renderOutput(dataTable, element);\n",
              "          const docLink = document.createElement('div');\n",
              "          docLink.innerHTML = docLinkHtml;\n",
              "          element.appendChild(docLink);\n",
              "        }\n",
              "      </script>\n",
              "    </div>\n",
              "  </div>\n",
              "  "
            ]
          },
          "metadata": {},
          "execution_count": 27
        }
      ]
    },
    {
      "cell_type": "code",
      "source": [
        "dfs[~dfs.Diferença.duplicated()]"
      ],
      "metadata": {
        "colab": {
          "base_uri": "https://localhost:8080/",
          "height": 938
        },
        "id": "KQMeNzPwYHVq",
        "outputId": "42ce9091-92e5-4241-d78f-2bfb9adfd2df"
      },
      "execution_count": null,
      "outputs": [
        {
          "output_type": "execute_result",
          "data": {
            "text/plain": [
              "        ï»¿AnoCalendario    DataArquivamento        DataAbertura  \\\n",
              "0                   2016 2016-02-17 13:43:08 2015-10-29 10:59:59   \n",
              "1                   2016 2016-12-15 18:11:35 2016-11-18 14:52:22   \n",
              "2                   2016 2016-09-16 09:01:46 2016-06-29 13:58:35   \n",
              "3                   2016 2016-02-18 13:30:30 2016-01-21 12:23:51   \n",
              "4                   2016 2016-11-09 14:20:36 2016-10-07 16:39:59   \n",
              "...                  ...                 ...                 ...   \n",
              "203481              2016 2016-08-24 10:19:29 2016-05-06 11:21:45   \n",
              "203482              2016 2016-10-27 09:19:09 2016-05-02 15:28:57   \n",
              "203483              2016 2016-09-21 09:11:21 2016-04-29 16:20:30   \n",
              "203484              2016 2016-08-16 10:58:52 2016-04-19 07:58:16   \n",
              "203485              2016 2016-09-21 09:44:57 2016-04-19 08:42:27   \n",
              "\n",
              "        CodigoRegiao    Regiao  UF  \\\n",
              "0                  2  Nordeste  PE   \n",
              "1                  2  Nordeste  PE   \n",
              "2                  2  Nordeste  PE   \n",
              "3                  2  Nordeste  PE   \n",
              "4                  2  Nordeste  PE   \n",
              "...              ...       ...  ..   \n",
              "203481             3   Sudeste  SP   \n",
              "203482             3   Sudeste  SP   \n",
              "203483             3   Sudeste  SP   \n",
              "203484             3   Sudeste  SP   \n",
              "203485             3   Sudeste  SP   \n",
              "\n",
              "                                           strRazaoSocial  \\\n",
              "0          CVC BRASIL OPERADORA E AGENCIA DE VIAGENS S.A.   \n",
              "1                          GIORGIO ARMANI BRASIL COMERCIO   \n",
              "2                      COMPANHIA ENERGETICA DE PERNAMBUCO   \n",
              "3                                            MOURA DUBEUX   \n",
              "4       ASSOCIAÃÃO UNIFICADA PAULISTA DE ENSINO RENO...   \n",
              "...                                                   ...   \n",
              "203481                                      OI MÃVEL S/A   \n",
              "203482  ELETROPAULO METROPOLITANA ELETRICIDADE DE S PAULO   \n",
              "203483                   AUTO ESCOLA ULTRA FACIL LTDA EPP   \n",
              "203484  FINANCEIRA ITAU CBD S/A CRÃDITO FINANCIAMENTO...   \n",
              "203485                   VALBET CENTRO AUTOMOTIVO LTDA ME   \n",
              "\n",
              "                       strNomeFantasia  Tipo    NumeroCNPJ  ...  \\\n",
              "0                                  CVC     1  1.076026e+13  ...   \n",
              "1                       EMPORIO ARMANI     1  1.318050e+13  ...   \n",
              "2                                CELPE     1  1.083593e+13  ...   \n",
              "3                         MOURA DUBEUX     1  1.204963e+13  ...   \n",
              "4                                 UNIP     1           NaN  ...   \n",
              "...                                ...   ...           ...  ...   \n",
              "203481                OI CELULAR/OI TV     1  5.423963e+12  ...   \n",
              "203482       ELETROPAULO METROPOLITANA     1  6.169523e+13  ...   \n",
              "203483                             NaN     1  1.802559e+13  ...   \n",
              "203484  FIC FINANCEIRA ITAÃ CBD / FIT     1  6.881898e+12  ...   \n",
              "203485                             NaN     1  2.035944e+13  ...   \n",
              "\n",
              "                                        DescCNAEPrincipal Atendida  \\\n",
              "0                                    AGÃNCIAS DE VIAGENS        S   \n",
              "1                                                     NaN        N   \n",
              "2                     DISTRIBUIÃÃO DE ENERGIA ELÃTRICA        S   \n",
              "3                              CONSTRUÃÃO DE EDIFÃCIOS        S   \n",
              "4                                                     NaN        S   \n",
              "...                                                   ...      ...   \n",
              "203481                           TELEFONIA MÃVEL CELULAR        S   \n",
              "203482                DISTRIBUIÃÃO DE ENERGIA ELÃTRICA        N   \n",
              "203483                           FORMAÃÃO DE CONDUTORES        S   \n",
              "203484  SOCIEDADES DE CRÃDITO, FINANCIAMENTO E INVEST...        S   \n",
              "203485                                                NaN        S   \n",
              "\n",
              "       CodigoAssunto                                   DescricaoAssunto  \\\n",
              "0                276  AgÃªncias e Operadoras de viagens (pacotes tur...   \n",
              "1                132                    VestuÃ¡rio ( CalÃ§ado / Roupa )   \n",
              "2                185                                  Energia ElÃ©trica   \n",
              "3                 82   IncorporaÃ§Ã£o ( Construtoras e Incorporadoras )   \n",
              "4                233         Escola ( PrÃ©, 1Âº, 2Âº Graus e Superior )   \n",
              "...              ...                                                ...   \n",
              "203481           187                                  Telefonia Celular   \n",
              "203482           185                                  Energia ElÃ©trica   \n",
              "203483           264  AutomÃ³vel - LocaÃ§Ã£o / AssistÃªncia Automobi...   \n",
              "203484            53                                    Banco comercial   \n",
              "203485           250  Oficinas ( MecÃ¢nica, Funilaria, Auto-ElÃ©tric...   \n",
              "\n",
              "       CodigoProblema                                  DescricaoProblema  \\\n",
              "0               205.0  Consulta Sobre ServiÃ§os (Pesquisa, cartilha, ...   \n",
              "1               105.0                                 Produto com vÃ­cio   \n",
              "2               134.0                         CobranÃ§a indevida/abusiva   \n",
              "3                88.0                           NÃ£o entrega do contrato   \n",
              "4               199.0  Documentos: nÃ£o fornecimento (escolares, reci...   \n",
              "...               ...                                                ...   \n",
              "203481          143.0        Contrato - RescisÃ£o/alteraÃ§Ã£o unilateral   \n",
              "203482          134.0                         CobranÃ§a indevida/abusiva   \n",
              "203483          185.0     ServiÃ§o nÃ£o concluÃ­do /Fornecimento parcial   \n",
              "203484           28.0                         CobranÃ§a indevida/abusiva   \n",
              "203485          183.0  Vicio de qualidade (mal executado, inadequado,...   \n",
              "\n",
              "        SexoConsumidor FaixaEtariaConsumidor  CEPConsumidor         Diferença  \n",
              "0                    M    entre 61 a 70 anos     52061540.0 111 days 02:43:09  \n",
              "1                    F    entre 31 a 40 anos     51010140.0  27 days 03:19:13  \n",
              "2                    F    entre 51 a 60 anos     53060600.0  78 days 19:03:11  \n",
              "3                    M    entre 51 a 60 anos     53090220.0  28 days 01:06:39  \n",
              "4                    F    entre 21 a 30 anos     53437100.0  32 days 21:40:37  \n",
              "...                ...                   ...            ...               ...  \n",
              "203481               M    entre 51 a 60 anos      4763310.0 109 days 22:57:44  \n",
              "203482               M    entre 41 a 50 anos      4846010.0 177 days 17:50:12  \n",
              "203483               F    entre 21 a 30 anos      5731090.0 144 days 16:50:51  \n",
              "203484               F    entre 21 a 30 anos      4438250.0 119 days 03:00:36  \n",
              "203485               M    entre 51 a 60 anos      4470261.0 155 days 01:02:30  \n",
              "\n",
              "[167616 rows x 24 columns]"
            ],
            "text/html": [
              "\n",
              "  <div id=\"df-20e66c20-01a5-4188-abeb-ffb9d830be17\">\n",
              "    <div class=\"colab-df-container\">\n",
              "      <div>\n",
              "<style scoped>\n",
              "    .dataframe tbody tr th:only-of-type {\n",
              "        vertical-align: middle;\n",
              "    }\n",
              "\n",
              "    .dataframe tbody tr th {\n",
              "        vertical-align: top;\n",
              "    }\n",
              "\n",
              "    .dataframe thead th {\n",
              "        text-align: right;\n",
              "    }\n",
              "</style>\n",
              "<table border=\"1\" class=\"dataframe\">\n",
              "  <thead>\n",
              "    <tr style=\"text-align: right;\">\n",
              "      <th></th>\n",
              "      <th>ï»¿AnoCalendario</th>\n",
              "      <th>DataArquivamento</th>\n",
              "      <th>DataAbertura</th>\n",
              "      <th>CodigoRegiao</th>\n",
              "      <th>Regiao</th>\n",
              "      <th>UF</th>\n",
              "      <th>strRazaoSocial</th>\n",
              "      <th>strNomeFantasia</th>\n",
              "      <th>Tipo</th>\n",
              "      <th>NumeroCNPJ</th>\n",
              "      <th>...</th>\n",
              "      <th>DescCNAEPrincipal</th>\n",
              "      <th>Atendida</th>\n",
              "      <th>CodigoAssunto</th>\n",
              "      <th>DescricaoAssunto</th>\n",
              "      <th>CodigoProblema</th>\n",
              "      <th>DescricaoProblema</th>\n",
              "      <th>SexoConsumidor</th>\n",
              "      <th>FaixaEtariaConsumidor</th>\n",
              "      <th>CEPConsumidor</th>\n",
              "      <th>Diferença</th>\n",
              "    </tr>\n",
              "  </thead>\n",
              "  <tbody>\n",
              "    <tr>\n",
              "      <th>0</th>\n",
              "      <td>2016</td>\n",
              "      <td>2016-02-17 13:43:08</td>\n",
              "      <td>2015-10-29 10:59:59</td>\n",
              "      <td>2</td>\n",
              "      <td>Nordeste</td>\n",
              "      <td>PE</td>\n",
              "      <td>CVC BRASIL OPERADORA E AGENCIA DE VIAGENS S.A.</td>\n",
              "      <td>CVC</td>\n",
              "      <td>1</td>\n",
              "      <td>1.076026e+13</td>\n",
              "      <td>...</td>\n",
              "      <td>AGÃNCIAS DE VIAGENS</td>\n",
              "      <td>S</td>\n",
              "      <td>276</td>\n",
              "      <td>AgÃªncias e Operadoras de viagens (pacotes tur...</td>\n",
              "      <td>205.0</td>\n",
              "      <td>Consulta Sobre ServiÃ§os (Pesquisa, cartilha, ...</td>\n",
              "      <td>M</td>\n",
              "      <td>entre 61 a 70 anos</td>\n",
              "      <td>52061540.0</td>\n",
              "      <td>111 days 02:43:09</td>\n",
              "    </tr>\n",
              "    <tr>\n",
              "      <th>1</th>\n",
              "      <td>2016</td>\n",
              "      <td>2016-12-15 18:11:35</td>\n",
              "      <td>2016-11-18 14:52:22</td>\n",
              "      <td>2</td>\n",
              "      <td>Nordeste</td>\n",
              "      <td>PE</td>\n",
              "      <td>GIORGIO ARMANI BRASIL COMERCIO</td>\n",
              "      <td>EMPORIO ARMANI</td>\n",
              "      <td>1</td>\n",
              "      <td>1.318050e+13</td>\n",
              "      <td>...</td>\n",
              "      <td>NaN</td>\n",
              "      <td>N</td>\n",
              "      <td>132</td>\n",
              "      <td>VestuÃ¡rio ( CalÃ§ado / Roupa )</td>\n",
              "      <td>105.0</td>\n",
              "      <td>Produto com vÃ­cio</td>\n",
              "      <td>F</td>\n",
              "      <td>entre 31 a 40 anos</td>\n",
              "      <td>51010140.0</td>\n",
              "      <td>27 days 03:19:13</td>\n",
              "    </tr>\n",
              "    <tr>\n",
              "      <th>2</th>\n",
              "      <td>2016</td>\n",
              "      <td>2016-09-16 09:01:46</td>\n",
              "      <td>2016-06-29 13:58:35</td>\n",
              "      <td>2</td>\n",
              "      <td>Nordeste</td>\n",
              "      <td>PE</td>\n",
              "      <td>COMPANHIA ENERGETICA DE PERNAMBUCO</td>\n",
              "      <td>CELPE</td>\n",
              "      <td>1</td>\n",
              "      <td>1.083593e+13</td>\n",
              "      <td>...</td>\n",
              "      <td>DISTRIBUIÃÃO DE ENERGIA ELÃTRICA</td>\n",
              "      <td>S</td>\n",
              "      <td>185</td>\n",
              "      <td>Energia ElÃ©trica</td>\n",
              "      <td>134.0</td>\n",
              "      <td>CobranÃ§a indevida/abusiva</td>\n",
              "      <td>F</td>\n",
              "      <td>entre 51 a 60 anos</td>\n",
              "      <td>53060600.0</td>\n",
              "      <td>78 days 19:03:11</td>\n",
              "    </tr>\n",
              "    <tr>\n",
              "      <th>3</th>\n",
              "      <td>2016</td>\n",
              "      <td>2016-02-18 13:30:30</td>\n",
              "      <td>2016-01-21 12:23:51</td>\n",
              "      <td>2</td>\n",
              "      <td>Nordeste</td>\n",
              "      <td>PE</td>\n",
              "      <td>MOURA DUBEUX</td>\n",
              "      <td>MOURA DUBEUX</td>\n",
              "      <td>1</td>\n",
              "      <td>1.204963e+13</td>\n",
              "      <td>...</td>\n",
              "      <td>CONSTRUÃÃO DE EDIFÃCIOS</td>\n",
              "      <td>S</td>\n",
              "      <td>82</td>\n",
              "      <td>IncorporaÃ§Ã£o ( Construtoras e Incorporadoras )</td>\n",
              "      <td>88.0</td>\n",
              "      <td>NÃ£o entrega do contrato</td>\n",
              "      <td>M</td>\n",
              "      <td>entre 51 a 60 anos</td>\n",
              "      <td>53090220.0</td>\n",
              "      <td>28 days 01:06:39</td>\n",
              "    </tr>\n",
              "    <tr>\n",
              "      <th>4</th>\n",
              "      <td>2016</td>\n",
              "      <td>2016-11-09 14:20:36</td>\n",
              "      <td>2016-10-07 16:39:59</td>\n",
              "      <td>2</td>\n",
              "      <td>Nordeste</td>\n",
              "      <td>PE</td>\n",
              "      <td>ASSOCIAÃÃO UNIFICADA PAULISTA DE ENSINO RENO...</td>\n",
              "      <td>UNIP</td>\n",
              "      <td>1</td>\n",
              "      <td>NaN</td>\n",
              "      <td>...</td>\n",
              "      <td>NaN</td>\n",
              "      <td>S</td>\n",
              "      <td>233</td>\n",
              "      <td>Escola ( PrÃ©, 1Âº, 2Âº Graus e Superior )</td>\n",
              "      <td>199.0</td>\n",
              "      <td>Documentos: nÃ£o fornecimento (escolares, reci...</td>\n",
              "      <td>F</td>\n",
              "      <td>entre 21 a 30 anos</td>\n",
              "      <td>53437100.0</td>\n",
              "      <td>32 days 21:40:37</td>\n",
              "    </tr>\n",
              "    <tr>\n",
              "      <th>...</th>\n",
              "      <td>...</td>\n",
              "      <td>...</td>\n",
              "      <td>...</td>\n",
              "      <td>...</td>\n",
              "      <td>...</td>\n",
              "      <td>...</td>\n",
              "      <td>...</td>\n",
              "      <td>...</td>\n",
              "      <td>...</td>\n",
              "      <td>...</td>\n",
              "      <td>...</td>\n",
              "      <td>...</td>\n",
              "      <td>...</td>\n",
              "      <td>...</td>\n",
              "      <td>...</td>\n",
              "      <td>...</td>\n",
              "      <td>...</td>\n",
              "      <td>...</td>\n",
              "      <td>...</td>\n",
              "      <td>...</td>\n",
              "      <td>...</td>\n",
              "    </tr>\n",
              "    <tr>\n",
              "      <th>203481</th>\n",
              "      <td>2016</td>\n",
              "      <td>2016-08-24 10:19:29</td>\n",
              "      <td>2016-05-06 11:21:45</td>\n",
              "      <td>3</td>\n",
              "      <td>Sudeste</td>\n",
              "      <td>SP</td>\n",
              "      <td>OI MÃVEL S/A</td>\n",
              "      <td>OI CELULAR/OI TV</td>\n",
              "      <td>1</td>\n",
              "      <td>5.423963e+12</td>\n",
              "      <td>...</td>\n",
              "      <td>TELEFONIA MÃVEL CELULAR</td>\n",
              "      <td>S</td>\n",
              "      <td>187</td>\n",
              "      <td>Telefonia Celular</td>\n",
              "      <td>143.0</td>\n",
              "      <td>Contrato - RescisÃ£o/alteraÃ§Ã£o unilateral</td>\n",
              "      <td>M</td>\n",
              "      <td>entre 51 a 60 anos</td>\n",
              "      <td>4763310.0</td>\n",
              "      <td>109 days 22:57:44</td>\n",
              "    </tr>\n",
              "    <tr>\n",
              "      <th>203482</th>\n",
              "      <td>2016</td>\n",
              "      <td>2016-10-27 09:19:09</td>\n",
              "      <td>2016-05-02 15:28:57</td>\n",
              "      <td>3</td>\n",
              "      <td>Sudeste</td>\n",
              "      <td>SP</td>\n",
              "      <td>ELETROPAULO METROPOLITANA ELETRICIDADE DE S PAULO</td>\n",
              "      <td>ELETROPAULO METROPOLITANA</td>\n",
              "      <td>1</td>\n",
              "      <td>6.169523e+13</td>\n",
              "      <td>...</td>\n",
              "      <td>DISTRIBUIÃÃO DE ENERGIA ELÃTRICA</td>\n",
              "      <td>N</td>\n",
              "      <td>185</td>\n",
              "      <td>Energia ElÃ©trica</td>\n",
              "      <td>134.0</td>\n",
              "      <td>CobranÃ§a indevida/abusiva</td>\n",
              "      <td>M</td>\n",
              "      <td>entre 41 a 50 anos</td>\n",
              "      <td>4846010.0</td>\n",
              "      <td>177 days 17:50:12</td>\n",
              "    </tr>\n",
              "    <tr>\n",
              "      <th>203483</th>\n",
              "      <td>2016</td>\n",
              "      <td>2016-09-21 09:11:21</td>\n",
              "      <td>2016-04-29 16:20:30</td>\n",
              "      <td>3</td>\n",
              "      <td>Sudeste</td>\n",
              "      <td>SP</td>\n",
              "      <td>AUTO ESCOLA ULTRA FACIL LTDA EPP</td>\n",
              "      <td>NaN</td>\n",
              "      <td>1</td>\n",
              "      <td>1.802559e+13</td>\n",
              "      <td>...</td>\n",
              "      <td>FORMAÃÃO DE CONDUTORES</td>\n",
              "      <td>S</td>\n",
              "      <td>264</td>\n",
              "      <td>AutomÃ³vel - LocaÃ§Ã£o / AssistÃªncia Automobi...</td>\n",
              "      <td>185.0</td>\n",
              "      <td>ServiÃ§o nÃ£o concluÃ­do /Fornecimento parcial</td>\n",
              "      <td>F</td>\n",
              "      <td>entre 21 a 30 anos</td>\n",
              "      <td>5731090.0</td>\n",
              "      <td>144 days 16:50:51</td>\n",
              "    </tr>\n",
              "    <tr>\n",
              "      <th>203484</th>\n",
              "      <td>2016</td>\n",
              "      <td>2016-08-16 10:58:52</td>\n",
              "      <td>2016-04-19 07:58:16</td>\n",
              "      <td>3</td>\n",
              "      <td>Sudeste</td>\n",
              "      <td>SP</td>\n",
              "      <td>FINANCEIRA ITAU CBD S/A CRÃDITO FINANCIAMENTO...</td>\n",
              "      <td>FIC FINANCEIRA ITAÃ CBD / FIT</td>\n",
              "      <td>1</td>\n",
              "      <td>6.881898e+12</td>\n",
              "      <td>...</td>\n",
              "      <td>SOCIEDADES DE CRÃDITO, FINANCIAMENTO E INVEST...</td>\n",
              "      <td>S</td>\n",
              "      <td>53</td>\n",
              "      <td>Banco comercial</td>\n",
              "      <td>28.0</td>\n",
              "      <td>CobranÃ§a indevida/abusiva</td>\n",
              "      <td>F</td>\n",
              "      <td>entre 21 a 30 anos</td>\n",
              "      <td>4438250.0</td>\n",
              "      <td>119 days 03:00:36</td>\n",
              "    </tr>\n",
              "    <tr>\n",
              "      <th>203485</th>\n",
              "      <td>2016</td>\n",
              "      <td>2016-09-21 09:44:57</td>\n",
              "      <td>2016-04-19 08:42:27</td>\n",
              "      <td>3</td>\n",
              "      <td>Sudeste</td>\n",
              "      <td>SP</td>\n",
              "      <td>VALBET CENTRO AUTOMOTIVO LTDA ME</td>\n",
              "      <td>NaN</td>\n",
              "      <td>1</td>\n",
              "      <td>2.035944e+13</td>\n",
              "      <td>...</td>\n",
              "      <td>NaN</td>\n",
              "      <td>S</td>\n",
              "      <td>250</td>\n",
              "      <td>Oficinas ( MecÃ¢nica, Funilaria, Auto-ElÃ©tric...</td>\n",
              "      <td>183.0</td>\n",
              "      <td>Vicio de qualidade (mal executado, inadequado,...</td>\n",
              "      <td>M</td>\n",
              "      <td>entre 51 a 60 anos</td>\n",
              "      <td>4470261.0</td>\n",
              "      <td>155 days 01:02:30</td>\n",
              "    </tr>\n",
              "  </tbody>\n",
              "</table>\n",
              "<p>167616 rows × 24 columns</p>\n",
              "</div>\n",
              "      <button class=\"colab-df-convert\" onclick=\"convertToInteractive('df-20e66c20-01a5-4188-abeb-ffb9d830be17')\"\n",
              "              title=\"Convert this dataframe to an interactive table.\"\n",
              "              style=\"display:none;\">\n",
              "        \n",
              "  <svg xmlns=\"http://www.w3.org/2000/svg\" height=\"24px\"viewBox=\"0 0 24 24\"\n",
              "       width=\"24px\">\n",
              "    <path d=\"M0 0h24v24H0V0z\" fill=\"none\"/>\n",
              "    <path d=\"M18.56 5.44l.94 2.06.94-2.06 2.06-.94-2.06-.94-.94-2.06-.94 2.06-2.06.94zm-11 1L8.5 8.5l.94-2.06 2.06-.94-2.06-.94L8.5 2.5l-.94 2.06-2.06.94zm10 10l.94 2.06.94-2.06 2.06-.94-2.06-.94-.94-2.06-.94 2.06-2.06.94z\"/><path d=\"M17.41 7.96l-1.37-1.37c-.4-.4-.92-.59-1.43-.59-.52 0-1.04.2-1.43.59L10.3 9.45l-7.72 7.72c-.78.78-.78 2.05 0 2.83L4 21.41c.39.39.9.59 1.41.59.51 0 1.02-.2 1.41-.59l7.78-7.78 2.81-2.81c.8-.78.8-2.07 0-2.86zM5.41 20L4 18.59l7.72-7.72 1.47 1.35L5.41 20z\"/>\n",
              "  </svg>\n",
              "      </button>\n",
              "      \n",
              "  <style>\n",
              "    .colab-df-container {\n",
              "      display:flex;\n",
              "      flex-wrap:wrap;\n",
              "      gap: 12px;\n",
              "    }\n",
              "\n",
              "    .colab-df-convert {\n",
              "      background-color: #E8F0FE;\n",
              "      border: none;\n",
              "      border-radius: 50%;\n",
              "      cursor: pointer;\n",
              "      display: none;\n",
              "      fill: #1967D2;\n",
              "      height: 32px;\n",
              "      padding: 0 0 0 0;\n",
              "      width: 32px;\n",
              "    }\n",
              "\n",
              "    .colab-df-convert:hover {\n",
              "      background-color: #E2EBFA;\n",
              "      box-shadow: 0px 1px 2px rgba(60, 64, 67, 0.3), 0px 1px 3px 1px rgba(60, 64, 67, 0.15);\n",
              "      fill: #174EA6;\n",
              "    }\n",
              "\n",
              "    [theme=dark] .colab-df-convert {\n",
              "      background-color: #3B4455;\n",
              "      fill: #D2E3FC;\n",
              "    }\n",
              "\n",
              "    [theme=dark] .colab-df-convert:hover {\n",
              "      background-color: #434B5C;\n",
              "      box-shadow: 0px 1px 3px 1px rgba(0, 0, 0, 0.15);\n",
              "      filter: drop-shadow(0px 1px 2px rgba(0, 0, 0, 0.3));\n",
              "      fill: #FFFFFF;\n",
              "    }\n",
              "  </style>\n",
              "\n",
              "      <script>\n",
              "        const buttonEl =\n",
              "          document.querySelector('#df-20e66c20-01a5-4188-abeb-ffb9d830be17 button.colab-df-convert');\n",
              "        buttonEl.style.display =\n",
              "          google.colab.kernel.accessAllowed ? 'block' : 'none';\n",
              "\n",
              "        async function convertToInteractive(key) {\n",
              "          const element = document.querySelector('#df-20e66c20-01a5-4188-abeb-ffb9d830be17');\n",
              "          const dataTable =\n",
              "            await google.colab.kernel.invokeFunction('convertToInteractive',\n",
              "                                                     [key], {});\n",
              "          if (!dataTable) return;\n",
              "\n",
              "          const docLinkHtml = 'Like what you see? Visit the ' +\n",
              "            '<a target=\"_blank\" href=https://colab.research.google.com/notebooks/data_table.ipynb>data table notebook</a>'\n",
              "            + ' to learn more about interactive tables.';\n",
              "          element.innerHTML = '';\n",
              "          dataTable['output_type'] = 'display_data';\n",
              "          await google.colab.output.renderOutput(dataTable, element);\n",
              "          const docLink = document.createElement('div');\n",
              "          docLink.innerHTML = docLinkHtml;\n",
              "          element.appendChild(docLink);\n",
              "        }\n",
              "      </script>\n",
              "    </div>\n",
              "  </div>\n",
              "  "
            ]
          },
          "metadata": {},
          "execution_count": 28
        }
      ]
    },
    {
      "cell_type": "code",
      "source": [
        "dfs[~dfs.Diferença.duplicated()]['Diferença'].value_counts()"
      ],
      "metadata": {
        "colab": {
          "base_uri": "https://localhost:8080/"
        },
        "id": "JJN13nVbYS7C",
        "outputId": "0ce577e0-089c-450a-da19-e0e902bd211a"
      },
      "execution_count": null,
      "outputs": [
        {
          "output_type": "execute_result",
          "data": {
            "text/plain": [
              "111 days 02:43:09    1\n",
              "90 days 22:49:33     1\n",
              "150 days 16:49:40    1\n",
              "197 days 01:22:37    1\n",
              "327 days 22:06:40    1\n",
              "                    ..\n",
              "60 days 17:05:42     1\n",
              "175 days 01:48:03    1\n",
              "57 days 06:50:09     1\n",
              "87 days 21:59:36     1\n",
              "155 days 01:02:30    1\n",
              "Name: Diferença, Length: 167616, dtype: int64"
            ]
          },
          "metadata": {},
          "execution_count": 29
        }
      ]
    },
    {
      "cell_type": "code",
      "source": [
        "dfs[~dfs.Diferença.duplicated()].describe()"
      ],
      "metadata": {
        "colab": {
          "base_uri": "https://localhost:8080/",
          "height": 300
        },
        "id": "vyFMzJcQYdV9",
        "outputId": "cac2d930-f9bf-413f-a8fb-58aeaf10be3d"
      },
      "execution_count": null,
      "outputs": [
        {
          "output_type": "execute_result",
          "data": {
            "text/plain": [
              "       ï»¿AnoCalendario   CodigoRegiao           Tipo    NumeroCNPJ  \\\n",
              "count          167616.0  167616.000000  167616.000000  1.618130e+05   \n",
              "mean             2016.0       2.905164       0.996880  2.315880e+13   \n",
              "std                 0.0       1.154209       0.055772  2.505512e+13   \n",
              "min              2016.0       1.000000       0.000000  1.910000e+02   \n",
              "25%              2016.0       2.000000       1.000000  4.206050e+12   \n",
              "50%              2016.0       3.000000       1.000000  1.077276e+13   \n",
              "75%              2016.0       4.000000       1.000000  3.873365e+13   \n",
              "max              2016.0       5.000000       1.000000  9.840807e+13   \n",
              "\n",
              "        RadicalCNPJ  CNAEPrincipal  CodigoAssunto  CodigoProblema  \\\n",
              "count  1.618130e+05   1.550120e+05  167616.000000   167606.000000   \n",
              "mean   1.166777e+08   5.610674e+06     142.984638      123.016849   \n",
              "std    2.418607e+09   1.575485e+06      71.870089       60.954373   \n",
              "min    0.000000e+00   1.156000e+05       1.000000        1.000000   \n",
              "25%    4.206050e+06   4.713001e+06      89.000000      105.000000   \n",
              "50%    1.083593e+07   6.120501e+06     122.000000      113.000000   \n",
              "75%    4.043254e+07   6.423900e+06     187.000000      148.000000   \n",
              "max    9.965391e+10   9.700500e+06     288.000000      262.000000   \n",
              "\n",
              "       CEPConsumidor                    Diferença  \n",
              "count   1.562120e+05                       167616  \n",
              "mean    4.978683e+07  238 days 02:09:17.607710480  \n",
              "std     2.772248e+07  433 days 06:07:54.893449344  \n",
              "min     0.000000e+00              0 days 00:00:14  \n",
              "25%     2.914040e+07             41 days 20:38:03  \n",
              "50%     5.502330e+07             85 days 01:08:51  \n",
              "75%     7.702168e+07            200 days 04:21:09  \n",
              "max     9.969800e+07           3975 days 22:39:06  "
            ],
            "text/html": [
              "\n",
              "  <div id=\"df-8cc09152-819b-4d41-8fbf-70deed652ba4\">\n",
              "    <div class=\"colab-df-container\">\n",
              "      <div>\n",
              "<style scoped>\n",
              "    .dataframe tbody tr th:only-of-type {\n",
              "        vertical-align: middle;\n",
              "    }\n",
              "\n",
              "    .dataframe tbody tr th {\n",
              "        vertical-align: top;\n",
              "    }\n",
              "\n",
              "    .dataframe thead th {\n",
              "        text-align: right;\n",
              "    }\n",
              "</style>\n",
              "<table border=\"1\" class=\"dataframe\">\n",
              "  <thead>\n",
              "    <tr style=\"text-align: right;\">\n",
              "      <th></th>\n",
              "      <th>ï»¿AnoCalendario</th>\n",
              "      <th>CodigoRegiao</th>\n",
              "      <th>Tipo</th>\n",
              "      <th>NumeroCNPJ</th>\n",
              "      <th>RadicalCNPJ</th>\n",
              "      <th>CNAEPrincipal</th>\n",
              "      <th>CodigoAssunto</th>\n",
              "      <th>CodigoProblema</th>\n",
              "      <th>CEPConsumidor</th>\n",
              "      <th>Diferença</th>\n",
              "    </tr>\n",
              "  </thead>\n",
              "  <tbody>\n",
              "    <tr>\n",
              "      <th>count</th>\n",
              "      <td>167616.0</td>\n",
              "      <td>167616.000000</td>\n",
              "      <td>167616.000000</td>\n",
              "      <td>1.618130e+05</td>\n",
              "      <td>1.618130e+05</td>\n",
              "      <td>1.550120e+05</td>\n",
              "      <td>167616.000000</td>\n",
              "      <td>167606.000000</td>\n",
              "      <td>1.562120e+05</td>\n",
              "      <td>167616</td>\n",
              "    </tr>\n",
              "    <tr>\n",
              "      <th>mean</th>\n",
              "      <td>2016.0</td>\n",
              "      <td>2.905164</td>\n",
              "      <td>0.996880</td>\n",
              "      <td>2.315880e+13</td>\n",
              "      <td>1.166777e+08</td>\n",
              "      <td>5.610674e+06</td>\n",
              "      <td>142.984638</td>\n",
              "      <td>123.016849</td>\n",
              "      <td>4.978683e+07</td>\n",
              "      <td>238 days 02:09:17.607710480</td>\n",
              "    </tr>\n",
              "    <tr>\n",
              "      <th>std</th>\n",
              "      <td>0.0</td>\n",
              "      <td>1.154209</td>\n",
              "      <td>0.055772</td>\n",
              "      <td>2.505512e+13</td>\n",
              "      <td>2.418607e+09</td>\n",
              "      <td>1.575485e+06</td>\n",
              "      <td>71.870089</td>\n",
              "      <td>60.954373</td>\n",
              "      <td>2.772248e+07</td>\n",
              "      <td>433 days 06:07:54.893449344</td>\n",
              "    </tr>\n",
              "    <tr>\n",
              "      <th>min</th>\n",
              "      <td>2016.0</td>\n",
              "      <td>1.000000</td>\n",
              "      <td>0.000000</td>\n",
              "      <td>1.910000e+02</td>\n",
              "      <td>0.000000e+00</td>\n",
              "      <td>1.156000e+05</td>\n",
              "      <td>1.000000</td>\n",
              "      <td>1.000000</td>\n",
              "      <td>0.000000e+00</td>\n",
              "      <td>0 days 00:00:14</td>\n",
              "    </tr>\n",
              "    <tr>\n",
              "      <th>25%</th>\n",
              "      <td>2016.0</td>\n",
              "      <td>2.000000</td>\n",
              "      <td>1.000000</td>\n",
              "      <td>4.206050e+12</td>\n",
              "      <td>4.206050e+06</td>\n",
              "      <td>4.713001e+06</td>\n",
              "      <td>89.000000</td>\n",
              "      <td>105.000000</td>\n",
              "      <td>2.914040e+07</td>\n",
              "      <td>41 days 20:38:03</td>\n",
              "    </tr>\n",
              "    <tr>\n",
              "      <th>50%</th>\n",
              "      <td>2016.0</td>\n",
              "      <td>3.000000</td>\n",
              "      <td>1.000000</td>\n",
              "      <td>1.077276e+13</td>\n",
              "      <td>1.083593e+07</td>\n",
              "      <td>6.120501e+06</td>\n",
              "      <td>122.000000</td>\n",
              "      <td>113.000000</td>\n",
              "      <td>5.502330e+07</td>\n",
              "      <td>85 days 01:08:51</td>\n",
              "    </tr>\n",
              "    <tr>\n",
              "      <th>75%</th>\n",
              "      <td>2016.0</td>\n",
              "      <td>4.000000</td>\n",
              "      <td>1.000000</td>\n",
              "      <td>3.873365e+13</td>\n",
              "      <td>4.043254e+07</td>\n",
              "      <td>6.423900e+06</td>\n",
              "      <td>187.000000</td>\n",
              "      <td>148.000000</td>\n",
              "      <td>7.702168e+07</td>\n",
              "      <td>200 days 04:21:09</td>\n",
              "    </tr>\n",
              "    <tr>\n",
              "      <th>max</th>\n",
              "      <td>2016.0</td>\n",
              "      <td>5.000000</td>\n",
              "      <td>1.000000</td>\n",
              "      <td>9.840807e+13</td>\n",
              "      <td>9.965391e+10</td>\n",
              "      <td>9.700500e+06</td>\n",
              "      <td>288.000000</td>\n",
              "      <td>262.000000</td>\n",
              "      <td>9.969800e+07</td>\n",
              "      <td>3975 days 22:39:06</td>\n",
              "    </tr>\n",
              "  </tbody>\n",
              "</table>\n",
              "</div>\n",
              "      <button class=\"colab-df-convert\" onclick=\"convertToInteractive('df-8cc09152-819b-4d41-8fbf-70deed652ba4')\"\n",
              "              title=\"Convert this dataframe to an interactive table.\"\n",
              "              style=\"display:none;\">\n",
              "        \n",
              "  <svg xmlns=\"http://www.w3.org/2000/svg\" height=\"24px\"viewBox=\"0 0 24 24\"\n",
              "       width=\"24px\">\n",
              "    <path d=\"M0 0h24v24H0V0z\" fill=\"none\"/>\n",
              "    <path d=\"M18.56 5.44l.94 2.06.94-2.06 2.06-.94-2.06-.94-.94-2.06-.94 2.06-2.06.94zm-11 1L8.5 8.5l.94-2.06 2.06-.94-2.06-.94L8.5 2.5l-.94 2.06-2.06.94zm10 10l.94 2.06.94-2.06 2.06-.94-2.06-.94-.94-2.06-.94 2.06-2.06.94z\"/><path d=\"M17.41 7.96l-1.37-1.37c-.4-.4-.92-.59-1.43-.59-.52 0-1.04.2-1.43.59L10.3 9.45l-7.72 7.72c-.78.78-.78 2.05 0 2.83L4 21.41c.39.39.9.59 1.41.59.51 0 1.02-.2 1.41-.59l7.78-7.78 2.81-2.81c.8-.78.8-2.07 0-2.86zM5.41 20L4 18.59l7.72-7.72 1.47 1.35L5.41 20z\"/>\n",
              "  </svg>\n",
              "      </button>\n",
              "      \n",
              "  <style>\n",
              "    .colab-df-container {\n",
              "      display:flex;\n",
              "      flex-wrap:wrap;\n",
              "      gap: 12px;\n",
              "    }\n",
              "\n",
              "    .colab-df-convert {\n",
              "      background-color: #E8F0FE;\n",
              "      border: none;\n",
              "      border-radius: 50%;\n",
              "      cursor: pointer;\n",
              "      display: none;\n",
              "      fill: #1967D2;\n",
              "      height: 32px;\n",
              "      padding: 0 0 0 0;\n",
              "      width: 32px;\n",
              "    }\n",
              "\n",
              "    .colab-df-convert:hover {\n",
              "      background-color: #E2EBFA;\n",
              "      box-shadow: 0px 1px 2px rgba(60, 64, 67, 0.3), 0px 1px 3px 1px rgba(60, 64, 67, 0.15);\n",
              "      fill: #174EA6;\n",
              "    }\n",
              "\n",
              "    [theme=dark] .colab-df-convert {\n",
              "      background-color: #3B4455;\n",
              "      fill: #D2E3FC;\n",
              "    }\n",
              "\n",
              "    [theme=dark] .colab-df-convert:hover {\n",
              "      background-color: #434B5C;\n",
              "      box-shadow: 0px 1px 3px 1px rgba(0, 0, 0, 0.15);\n",
              "      filter: drop-shadow(0px 1px 2px rgba(0, 0, 0, 0.3));\n",
              "      fill: #FFFFFF;\n",
              "    }\n",
              "  </style>\n",
              "\n",
              "      <script>\n",
              "        const buttonEl =\n",
              "          document.querySelector('#df-8cc09152-819b-4d41-8fbf-70deed652ba4 button.colab-df-convert');\n",
              "        buttonEl.style.display =\n",
              "          google.colab.kernel.accessAllowed ? 'block' : 'none';\n",
              "\n",
              "        async function convertToInteractive(key) {\n",
              "          const element = document.querySelector('#df-8cc09152-819b-4d41-8fbf-70deed652ba4');\n",
              "          const dataTable =\n",
              "            await google.colab.kernel.invokeFunction('convertToInteractive',\n",
              "                                                     [key], {});\n",
              "          if (!dataTable) return;\n",
              "\n",
              "          const docLinkHtml = 'Like what you see? Visit the ' +\n",
              "            '<a target=\"_blank\" href=https://colab.research.google.com/notebooks/data_table.ipynb>data table notebook</a>'\n",
              "            + ' to learn more about interactive tables.';\n",
              "          element.innerHTML = '';\n",
              "          dataTable['output_type'] = 'display_data';\n",
              "          await google.colab.output.renderOutput(dataTable, element);\n",
              "          const docLink = document.createElement('div');\n",
              "          docLink.innerHTML = docLinkHtml;\n",
              "          element.appendChild(docLink);\n",
              "        }\n",
              "      </script>\n",
              "    </div>\n",
              "  </div>\n",
              "  "
            ]
          },
          "metadata": {},
          "execution_count": 30
        }
      ]
    },
    {
      "cell_type": "code",
      "source": [
        "dfs_unique = dfs[~dfs.Diferença.duplicated()]"
      ],
      "metadata": {
        "id": "oMQffV9NYnQU"
      },
      "execution_count": null,
      "outputs": []
    },
    {
      "cell_type": "code",
      "source": [
        "dfs['Diferença'].nunique()"
      ],
      "metadata": {
        "colab": {
          "base_uri": "https://localhost:8080/"
        },
        "id": "DPLJqeMeY9i3",
        "outputId": "eda89944-e3b9-41b8-c56e-463f4769fb1c"
      },
      "execution_count": null,
      "outputs": [
        {
          "output_type": "execute_result",
          "data": {
            "text/plain": [
              "167616"
            ]
          },
          "metadata": {},
          "execution_count": 32
        }
      ]
    },
    {
      "cell_type": "code",
      "source": [
        "dfs_groupby=dfs.groupby(['DataArquivamento','DataAbertura','Diferença']).count()\n",
        "dfs_groupby.boxplot(by='Regiao',column='UF')\n"
      ],
      "metadata": {
        "colab": {
          "base_uri": "https://localhost:8080/",
          "height": 373
        },
        "id": "UU9gItzqatAj",
        "outputId": "e052df05-e007-431c-c639-ba010bddd758"
      },
      "execution_count": null,
      "outputs": [
        {
          "output_type": "stream",
          "name": "stderr",
          "text": [
            "/usr/local/lib/python3.7/dist-packages/matplotlib/cbook/__init__.py:1376: VisibleDeprecationWarning: Creating an ndarray from ragged nested sequences (which is a list-or-tuple of lists-or-tuples-or ndarrays with different lengths or shapes) is deprecated. If you meant to do this, you must specify 'dtype=object' when creating the ndarray.\n",
            "  X = np.atleast_1d(X.T if isinstance(X, np.ndarray) else np.asarray(X))\n"
          ]
        },
        {
          "output_type": "execute_result",
          "data": {
            "text/plain": [
              "<matplotlib.axes._subplots.AxesSubplot at 0x7fe697a32ed0>"
            ]
          },
          "metadata": {},
          "execution_count": 33
        },
        {
          "output_type": "display_data",
          "data": {
            "text/plain": [
              "<Figure size 432x288 with 1 Axes>"
            ],
            "image/png": "[encoded data removed]"
          },
          "metadata": {
            "needs_background": "light"
          }
        }
      ]
    },
    {
      "cell_type": "markdown",
      "source": [
        "<h2>Elabore um gráfico boxplot mostrando a quantidade de reclamações por Região.</h2>\n"
      ],
      "metadata": {
        "id": "KU8v3RNBicV8"
      }
    },
    {
      "cell_type": "code",
      "execution_count": null,
      "metadata": {
        "colab": {
          "base_uri": "https://localhost:8080/",
          "height": 433
        },
        "id": "y2B8WrW0zoFO",
        "outputId": "cc31d92f-6c10-4126-db75-6170b0fa4e83"
      },
      "outputs": [
        {
          "output_type": "stream",
          "name": "stderr",
          "text": [
            "/usr/local/lib/python3.7/dist-packages/matplotlib/cbook/__init__.py:1376: VisibleDeprecationWarning: Creating an ndarray from ragged nested sequences (which is a list-or-tuple of lists-or-tuples-or ndarrays with different lengths or shapes) is deprecated. If you meant to do this, you must specify 'dtype=object' when creating the ndarray.\n",
            "  X = np.atleast_1d(X.T if isinstance(X, np.ndarray) else np.asarray(X))\n"
          ]
        },
        {
          "output_type": "execute_result",
          "data": {
            "text/plain": [
              "<matplotlib.axes._subplots.AxesSubplot at 0x7fe6979fc850>"
            ]
          },
          "metadata": {},
          "execution_count": 34
        },
        {
          "output_type": "display_data",
          "data": {
            "text/plain": [
              "<Figure size 360x360 with 1 Axes>"
            ],
            "image/png": "[encoded data removed]"
          },
          "metadata": {
            "needs_background": "light"
          }
        }
      ],
      "source": [
        "dfs_agrupado = dfs.groupby([\"Regiao\", \"UF\"]).count().reset_index()\n",
        "dfs_agrupado.boxplot(by=\"Regiao\",column = \"DataAbertura\", figsize = (5,5))"
      ]
    },
    {
      "cell_type": "markdown",
      "metadata": {
        "id": "Lrs0O-ZMZdfj"
      },
      "source": [
        "<h2>12.É possível afirmar que existe correlação entre o número de reclamações E o número de habitantes por Estado? Elabore um gráfico de dispersão e calcule o índice de correlação destes dois fatores.</h2>\n"
      ]
    },
    {
      "cell_type": "code",
      "source": [
        "data = {'HNorte': [1787279,816687,4001667,514229,8272724,782295,1532902,0,0],\n",
        "        'HNordeste': [6954036,3212180,8963663,3474998,3999415,9410336,3358963,2265779,15276566],\n",
        "        'HSudeste': [20997560,3973697,16635996,44749699,0,0,0,0,0],\n",
        "        'HSul': [11242720,6910553,11286500,0,0,0,0,0,0],\n",
        "        'HCentro': [2682386,3305531,6695855,2977216,0,0,0,0,0],\n",
        "        'RNorte':[3922,0,2318,0,2730,0,10232,0,0],\n",
        "        'RNordeste':[3597,2189,10833,4443,7464,20175,191,0,17519],\n",
        "        'RSudeste':[15159,11383,4884,31548,0,0,0,0,0],\n",
        "        'RSul':[9132,16718,263,0,0,0,0,0,0],\n",
        "        'RCentro':[9789,8770,8060,2167,0,0,0,0,0],\n",
        "        }\n",
        "\n",
        "df = pd.DataFrame(data,columns=['HNorte','HNordeste','HSudeste','HSul','HCentro',\n",
        "                                'RNorte','RNordeste','RSudeste','RSul','RCentro'])\n",
        "print (df)"
      ],
      "metadata": {
        "colab": {
          "base_uri": "https://localhost:8080/"
        },
        "id": "UlMTkVYZIZq0",
        "outputId": "a3822e19-368b-4c5f-bf32-6030c9fd5d05"
      },
      "execution_count": null,
      "outputs": [
        {
          "output_type": "stream",
          "name": "stdout",
          "text": [
            "    HNorte  HNordeste  HSudeste      HSul  HCentro  RNorte  RNordeste  \\\n",
            "0  1787279    6954036  20997560  11242720  2682386    3922       3597   \n",
            "1   816687    3212180   3973697   6910553  3305531       0       2189   \n",
            "2  4001667    8963663  16635996  11286500  6695855    2318      10833   \n",
            "3   514229    3474998  44749699         0  2977216       0       4443   \n",
            "4  8272724    3999415         0         0        0    2730       7464   \n",
            "5   782295    9410336         0         0        0       0      20175   \n",
            "6  1532902    3358963         0         0        0   10232        191   \n",
            "7        0    2265779         0         0        0       0          0   \n",
            "8        0   15276566         0         0        0       0      17519   \n",
            "\n",
            "   RSudeste   RSul  RCentro  \n",
            "0     15159   9132     9789  \n",
            "1     11383  16718     8770  \n",
            "2      4884    263     8060  \n",
            "3     31548      0     2167  \n",
            "4         0      0        0  \n",
            "5         0      0        0  \n",
            "6         0      0        0  \n",
            "7         0      0        0  \n",
            "8         0      0        0  \n"
          ]
        }
      ]
    },
    {
      "cell_type": "code",
      "source": [
        "df.corr(method='pearson')"
      ],
      "metadata": {
        "colab": {
          "base_uri": "https://localhost:8080/",
          "height": 363
        },
        "id": "Sga5Wae2UdXE",
        "outputId": "3451f460-dfd4-4179-c2b8-75e3ef5607ea"
      },
      "execution_count": null,
      "outputs": [
        {
          "output_type": "execute_result",
          "data": {
            "text/plain": [
              "             HNorte  HNordeste  HSudeste      HSul   HCentro    RNorte  \\\n",
              "HNorte     1.000000  -0.150598 -0.120275  0.120315  0.099581  0.232338   \n",
              "HNordeste -0.150598   1.000000 -0.157010  0.088952  0.007409 -0.242912   \n",
              "HSudeste  -0.120275  -0.157010  1.000000  0.269807  0.561837 -0.151243   \n",
              "HSul       0.120315   0.088952  0.269807  1.000000  0.808700  0.054197   \n",
              "HCentro    0.099581   0.007409  0.561837  0.808700  1.000000 -0.115174   \n",
              "RNorte     0.232338  -0.242912 -0.151243  0.054197 -0.115174  1.000000   \n",
              "RNordeste  0.006428   0.845493 -0.191097 -0.131950 -0.092805 -0.401000   \n",
              "RSudeste  -0.224402  -0.278443  0.936314  0.223875  0.466307 -0.216541   \n",
              "RSul      -0.159483  -0.222952  0.016210  0.559145  0.318902 -0.118706   \n",
              "RCentro    0.015039  -0.040712  0.364624  0.953420  0.801161 -0.036926   \n",
              "\n",
              "           RNordeste  RSudeste      RSul   RCentro  \n",
              "HNorte      0.006428 -0.224402 -0.159483  0.015039  \n",
              "HNordeste   0.845493 -0.278443 -0.222952 -0.040712  \n",
              "HSudeste   -0.191097  0.936314  0.016210  0.364624  \n",
              "HSul       -0.131950  0.223875  0.559145  0.953420  \n",
              "HCentro    -0.092805  0.466307  0.318902  0.801161  \n",
              "RNorte     -0.401000 -0.216541 -0.118706 -0.036926  \n",
              "RNordeste   1.000000 -0.301040 -0.340836 -0.238929  \n",
              "RSudeste   -0.301040  1.000000  0.283828  0.411556  \n",
              "RSul       -0.340836  0.283828  1.000000  0.744103  \n",
              "RCentro    -0.238929  0.411556  0.744103  1.000000  "
            ],
            "text/html": [
              "\n",
              "  <div id=\"df-3b95f9b5-e3b0-4c94-a922-4b3c01e7b646\">\n",
              "    <div class=\"colab-df-container\">\n",
              "      <div>\n",
              "<style scoped>\n",
              "    .dataframe tbody tr th:only-of-type {\n",
              "        vertical-align: middle;\n",
              "    }\n",
              "\n",
              "    .dataframe tbody tr th {\n",
              "        vertical-align: top;\n",
              "    }\n",
              "\n",
              "    .dataframe thead th {\n",
              "        text-align: right;\n",
              "    }\n",
              "</style>\n",
              "<table border=\"1\" class=\"dataframe\">\n",
              "  <thead>\n",
              "    <tr style=\"text-align: right;\">\n",
              "      <th></th>\n",
              "      <th>HNorte</th>\n",
              "      <th>HNordeste</th>\n",
              "      <th>HSudeste</th>\n",
              "      <th>HSul</th>\n",
              "      <th>HCentro</th>\n",
              "      <th>RNorte</th>\n",
              "      <th>RNordeste</th>\n",
              "      <th>RSudeste</th>\n",
              "      <th>RSul</th>\n",
              "      <th>RCentro</th>\n",
              "    </tr>\n",
              "  </thead>\n",
              "  <tbody>\n",
              "    <tr>\n",
              "      <th>HNorte</th>\n",
              "      <td>1.000000</td>\n",
              "      <td>-0.150598</td>\n",
              "      <td>-0.120275</td>\n",
              "      <td>0.120315</td>\n",
              "      <td>0.099581</td>\n",
              "      <td>0.232338</td>\n",
              "      <td>0.006428</td>\n",
              "      <td>-0.224402</td>\n",
              "      <td>-0.159483</td>\n",
              "      <td>0.015039</td>\n",
              "    </tr>\n",
              "    <tr>\n",
              "      <th>HNordeste</th>\n",
              "      <td>-0.150598</td>\n",
              "      <td>1.000000</td>\n",
              "      <td>-0.157010</td>\n",
              "      <td>0.088952</td>\n",
              "      <td>0.007409</td>\n",
              "      <td>-0.242912</td>\n",
              "      <td>0.845493</td>\n",
              "      <td>-0.278443</td>\n",
              "      <td>-0.222952</td>\n",
              "      <td>-0.040712</td>\n",
              "    </tr>\n",
              "    <tr>\n",
              "      <th>HSudeste</th>\n",
              "      <td>-0.120275</td>\n",
              "      <td>-0.157010</td>\n",
              "      <td>1.000000</td>\n",
              "      <td>0.269807</td>\n",
              "      <td>0.561837</td>\n",
              "      <td>-0.151243</td>\n",
              "      <td>-0.191097</td>\n",
              "      <td>0.936314</td>\n",
              "      <td>0.016210</td>\n",
              "      <td>0.364624</td>\n",
              "    </tr>\n",
              "    <tr>\n",
              "      <th>HSul</th>\n",
              "      <td>0.120315</td>\n",
              "      <td>0.088952</td>\n",
              "      <td>0.269807</td>\n",
              "      <td>1.000000</td>\n",
              "      <td>0.808700</td>\n",
              "      <td>0.054197</td>\n",
              "      <td>-0.131950</td>\n",
              "      <td>0.223875</td>\n",
              "      <td>0.559145</td>\n",
              "      <td>0.953420</td>\n",
              "    </tr>\n",
              "    <tr>\n",
              "      <th>HCentro</th>\n",
              "      <td>0.099581</td>\n",
              "      <td>0.007409</td>\n",
              "      <td>0.561837</td>\n",
              "      <td>0.808700</td>\n",
              "      <td>1.000000</td>\n",
              "      <td>-0.115174</td>\n",
              "      <td>-0.092805</td>\n",
              "      <td>0.466307</td>\n",
              "      <td>0.318902</td>\n",
              "      <td>0.801161</td>\n",
              "    </tr>\n",
              "    <tr>\n",
              "      <th>RNorte</th>\n",
              "      <td>0.232338</td>\n",
              "      <td>-0.242912</td>\n",
              "      <td>-0.151243</td>\n",
              "      <td>0.054197</td>\n",
              "      <td>-0.115174</td>\n",
              "      <td>1.000000</td>\n",
              "      <td>-0.401000</td>\n",
              "      <td>-0.216541</td>\n",
              "      <td>-0.118706</td>\n",
              "      <td>-0.036926</td>\n",
              "    </tr>\n",
              "    <tr>\n",
              "      <th>RNordeste</th>\n",
              "      <td>0.006428</td>\n",
              "      <td>0.845493</td>\n",
              "      <td>-0.191097</td>\n",
              "      <td>-0.131950</td>\n",
              "      <td>-0.092805</td>\n",
              "      <td>-0.401000</td>\n",
              "      <td>1.000000</td>\n",
              "      <td>-0.301040</td>\n",
              "      <td>-0.340836</td>\n",
              "      <td>-0.238929</td>\n",
              "    </tr>\n",
              "    <tr>\n",
              "      <th>RSudeste</th>\n",
              "      <td>-0.224402</td>\n",
              "      <td>-0.278443</td>\n",
              "      <td>0.936314</td>\n",
              "      <td>0.223875</td>\n",
              "      <td>0.466307</td>\n",
              "      <td>-0.216541</td>\n",
              "      <td>-0.301040</td>\n",
              "      <td>1.000000</td>\n",
              "      <td>0.283828</td>\n",
              "      <td>0.411556</td>\n",
              "    </tr>\n",
              "    <tr>\n",
              "      <th>RSul</th>\n",
              "      <td>-0.159483</td>\n",
              "      <td>-0.222952</td>\n",
              "      <td>0.016210</td>\n",
              "      <td>0.559145</td>\n",
              "      <td>0.318902</td>\n",
              "      <td>-0.118706</td>\n",
              "      <td>-0.340836</td>\n",
              "      <td>0.283828</td>\n",
              "      <td>1.000000</td>\n",
              "      <td>0.744103</td>\n",
              "    </tr>\n",
              "    <tr>\n",
              "      <th>RCentro</th>\n",
              "      <td>0.015039</td>\n",
              "      <td>-0.040712</td>\n",
              "      <td>0.364624</td>\n",
              "      <td>0.953420</td>\n",
              "      <td>0.801161</td>\n",
              "      <td>-0.036926</td>\n",
              "      <td>-0.238929</td>\n",
              "      <td>0.411556</td>\n",
              "      <td>0.744103</td>\n",
              "      <td>1.000000</td>\n",
              "    </tr>\n",
              "  </tbody>\n",
              "</table>\n",
              "</div>\n",
              "      <button class=\"colab-df-convert\" onclick=\"convertToInteractive('df-3b95f9b5-e3b0-4c94-a922-4b3c01e7b646')\"\n",
              "              title=\"Convert this dataframe to an interactive table.\"\n",
              "              style=\"display:none;\">\n",
              "        \n",
              "  <svg xmlns=\"http://www.w3.org/2000/svg\" height=\"24px\"viewBox=\"0 0 24 24\"\n",
              "       width=\"24px\">\n",
              "    <path d=\"M0 0h24v24H0V0z\" fill=\"none\"/>\n",
              "    <path d=\"M18.56 5.44l.94 2.06.94-2.06 2.06-.94-2.06-.94-.94-2.06-.94 2.06-2.06.94zm-11 1L8.5 8.5l.94-2.06 2.06-.94-2.06-.94L8.5 2.5l-.94 2.06-2.06.94zm10 10l.94 2.06.94-2.06 2.06-.94-2.06-.94-.94-2.06-.94 2.06-2.06.94z\"/><path d=\"M17.41 7.96l-1.37-1.37c-.4-.4-.92-.59-1.43-.59-.52 0-1.04.2-1.43.59L10.3 9.45l-7.72 7.72c-.78.78-.78 2.05 0 2.83L4 21.41c.39.39.9.59 1.41.59.51 0 1.02-.2 1.41-.59l7.78-7.78 2.81-2.81c.8-.78.8-2.07 0-2.86zM5.41 20L4 18.59l7.72-7.72 1.47 1.35L5.41 20z\"/>\n",
              "  </svg>\n",
              "      </button>\n",
              "      \n",
              "  <style>\n",
              "    .colab-df-container {\n",
              "      display:flex;\n",
              "      flex-wrap:wrap;\n",
              "      gap: 12px;\n",
              "    }\n",
              "\n",
              "    .colab-df-convert {\n",
              "      background-color: #E8F0FE;\n",
              "      border: none;\n",
              "      border-radius: 50%;\n",
              "      cursor: pointer;\n",
              "      display: none;\n",
              "      fill: #1967D2;\n",
              "      height: 32px;\n",
              "      padding: 0 0 0 0;\n",
              "      width: 32px;\n",
              "    }\n",
              "\n",
              "    .colab-df-convert:hover {\n",
              "      background-color: #E2EBFA;\n",
              "      box-shadow: 0px 1px 2px rgba(60, 64, 67, 0.3), 0px 1px 3px 1px rgba(60, 64, 67, 0.15);\n",
              "      fill: #174EA6;\n",
              "    }\n",
              "\n",
              "    [theme=dark] .colab-df-convert {\n",
              "      background-color: #3B4455;\n",
              "      fill: #D2E3FC;\n",
              "    }\n",
              "\n",
              "    [theme=dark] .colab-df-convert:hover {\n",
              "      background-color: #434B5C;\n",
              "      box-shadow: 0px 1px 3px 1px rgba(0, 0, 0, 0.15);\n",
              "      filter: drop-shadow(0px 1px 2px rgba(0, 0, 0, 0.3));\n",
              "      fill: #FFFFFF;\n",
              "    }\n",
              "  </style>\n",
              "\n",
              "      <script>\n",
              "        const buttonEl =\n",
              "          document.querySelector('#df-3b95f9b5-e3b0-4c94-a922-4b3c01e7b646 button.colab-df-convert');\n",
              "        buttonEl.style.display =\n",
              "          google.colab.kernel.accessAllowed ? 'block' : 'none';\n",
              "\n",
              "        async function convertToInteractive(key) {\n",
              "          const element = document.querySelector('#df-3b95f9b5-e3b0-4c94-a922-4b3c01e7b646');\n",
              "          const dataTable =\n",
              "            await google.colab.kernel.invokeFunction('convertToInteractive',\n",
              "                                                     [key], {});\n",
              "          if (!dataTable) return;\n",
              "\n",
              "          const docLinkHtml = 'Like what you see? Visit the ' +\n",
              "            '<a target=\"_blank\" href=https://colab.research.google.com/notebooks/data_table.ipynb>data table notebook</a>'\n",
              "            + ' to learn more about interactive tables.';\n",
              "          element.innerHTML = '';\n",
              "          dataTable['output_type'] = 'display_data';\n",
              "          await google.colab.output.renderOutput(dataTable, element);\n",
              "          const docLink = document.createElement('div');\n",
              "          docLink.innerHTML = docLinkHtml;\n",
              "          element.appendChild(docLink);\n",
              "        }\n",
              "      </script>\n",
              "    </div>\n",
              "  </div>\n",
              "  "
            ]
          },
          "metadata": {},
          "execution_count": 36
        }
      ]
    },
    {
      "cell_type": "code",
      "source": [
        "sns.heatmap(df.corr(), annot= True)"
      ],
      "metadata": {
        "colab": {
          "base_uri": "https://localhost:8080/",
          "height": 330
        },
        "id": "PhUN6TuabVcV",
        "outputId": "1250ca2b-15e1-4dce-90ea-eb51cb20cd2d"
      },
      "execution_count": null,
      "outputs": [
        {
          "output_type": "execute_result",
          "data": {
            "text/plain": [
              "<matplotlib.axes._subplots.AxesSubplot at 0x7fe6978b5a90>"
            ]
          },
          "metadata": {},
          "execution_count": 37
        },
        {
          "output_type": "display_data",
          "data": {
            "text/plain": [
              "<Figure size 432x288 with 2 Axes>"
            ],
            "image/png": "[encoded data removed]"
          },
          "metadata": {
            "needs_background": "light"
          }
        }
      ]
    },
    {
      "cell_type": "code",
      "source": [
        "#Descrição: Habitantes e Reclamações NORTE (Vermelho); Nordeste (Verde); Sudeste(Azul); Sul (Roxo); Centro(Preto)\n",
        "plt.scatter(df['HNorte'],df['RNorte'],  color='red')\n",
        "plt.scatter(df['HNordeste'],df['RNordeste'],  color='green')\n",
        "plt.scatter(df['HSudeste'],df['RSudeste'],  color='blue')\n",
        "plt.scatter(df['HSul'],df['RSul'],  color='purple')\n",
        "plt.scatter(df['HCentro'],df['RCentro'],  color='black')\n",
        "plt.title('Gráfico de Dispersão')\n",
        "plt.ylabel('Reclamações', fontsize=12)\n",
        "plt.xlabel('Habitantes', fontsize=12)\n"
      ],
      "metadata": {
        "colab": {
          "base_uri": "https://localhost:8080/",
          "height": 315
        },
        "id": "3RM7-8AzW6BX",
        "outputId": "c1d8de8f-0647-443d-ad6a-df78abb5fcdf"
      },
      "execution_count": null,
      "outputs": [
        {
          "output_type": "execute_result",
          "data": {
            "text/plain": [
              "Text(0.5, 0, 'Habitantes')"
            ]
          },
          "metadata": {},
          "execution_count": 38
        },
        {
          "output_type": "display_data",
          "data": {
            "text/plain": [
              "<Figure size 432x288 with 1 Axes>"
            ],
            "image/png": "[encoded data removed]"
          },
          "metadata": {
            "needs_background": "light"
          }
        }
      ]
    },
    {
      "cell_type": "code",
      "source": [
        "plt.scatter(df['HNorte'],df['RNorte'],  color='red')"
      ],
      "metadata": {
        "colab": {
          "base_uri": "https://localhost:8080/",
          "height": 295
        },
        "id": "yLlpYqSwRTAx",
        "outputId": "44e99167-966c-4d08-dbcf-1cf63dd0e929"
      },
      "execution_count": null,
      "outputs": [
        {
          "output_type": "execute_result",
          "data": {
            "text/plain": [
              "<matplotlib.collections.PathCollection at 0x7fe695d2ef10>"
            ]
          },
          "metadata": {},
          "execution_count": 39
        },
        {
          "output_type": "display_data",
          "data": {
            "text/plain": [
              "<Figure size 432x288 with 1 Axes>"
            ],
            "image/png": "[encoded data removed]"
          },
          "metadata": {
            "needs_background": "light"
          }
        }
      ]
    },
    {
      "cell_type": "code",
      "source": [
        "plt.scatter(df['HNordeste'],df['RNordeste'],  color='green')"
      ],
      "metadata": {
        "colab": {
          "base_uri": "https://localhost:8080/",
          "height": 295
        },
        "id": "lHBquburUon4",
        "outputId": "e37fc85f-b63d-473b-9098-a81d30b7377f"
      },
      "execution_count": null,
      "outputs": [
        {
          "output_type": "execute_result",
          "data": {
            "text/plain": [
              "<matplotlib.collections.PathCollection at 0x7fe695d1a450>"
            ]
          },
          "metadata": {},
          "execution_count": 40
        },
        {
          "output_type": "display_data",
          "data": {
            "text/plain": [
              "<Figure size 432x288 with 1 Axes>"
            ],
            "image/png": "[encoded data removed]"
          },
          "metadata": {
            "needs_background": "light"
          }
        }
      ]
    },
    {
      "cell_type": "code",
      "source": [
        "plt.scatter(df['HSudeste'],df['RSudeste'],  color='blue')"
      ],
      "metadata": {
        "colab": {
          "base_uri": "https://localhost:8080/",
          "height": 295
        },
        "id": "dxrRW88nU233",
        "outputId": "815254b5-f3b1-45b2-f063-443aebc366a1"
      },
      "execution_count": null,
      "outputs": [
        {
          "output_type": "execute_result",
          "data": {
            "text/plain": [
              "<matplotlib.collections.PathCollection at 0x7fe695c8b790>"
            ]
          },
          "metadata": {},
          "execution_count": 41
        },
        {
          "output_type": "display_data",
          "data": {
            "text/plain": [
              "<Figure size 432x288 with 1 Axes>"
            ],
            "image/png": "[encoded data removed]"
          },
          "metadata": {
            "needs_background": "light"
          }
        }
      ]
    },
    {
      "cell_type": "code",
      "source": [
        "plt.scatter(df['HSul'],df['RSul'],  color='purple')"
      ],
      "metadata": {
        "colab": {
          "base_uri": "https://localhost:8080/",
          "height": 299
        },
        "id": "MeKB1cnHU3T8",
        "outputId": "7442a69e-9cc5-4c84-860e-45a96494a04c"
      },
      "execution_count": null,
      "outputs": [
        {
          "output_type": "execute_result",
          "data": {
            "text/plain": [
              "<matplotlib.collections.PathCollection at 0x7fe697922090>"
            ]
          },
          "metadata": {},
          "execution_count": 42
        },
        {
          "output_type": "display_data",
          "data": {
            "text/plain": [
              "<Figure size 432x288 with 1 Axes>"
            ],
            "image/png": "[encoded data removed]"
          },
          "metadata": {
            "needs_background": "light"
          }
        }
      ]
    },
    {
      "cell_type": "code",
      "source": [
        "plt.scatter(df['HCentro'],df['RCentro'],  color='black')"
      ],
      "metadata": {
        "colab": {
          "base_uri": "https://localhost:8080/",
          "height": 295
        },
        "id": "BdPaGWC7U3-G",
        "outputId": "b20b5b47-221c-45ee-d2f1-204df3e242d2"
      },
      "execution_count": null,
      "outputs": [
        {
          "output_type": "execute_result",
          "data": {
            "text/plain": [
              "<matplotlib.collections.PathCollection at 0x7fe697644110>"
            ]
          },
          "metadata": {},
          "execution_count": 43
        },
        {
          "output_type": "display_data",
          "data": {
            "text/plain": [
              "<Figure size 432x288 with 1 Axes>"
            ],
            "image/png": "[encoded data removed]"
          },
          "metadata": {
            "needs_background": "light"
          }
        }
      ]
    }
  ],
  "metadata": {
    "colab": {
      "collapsed_sections": [],
      "name": "AtividadeAtiva.ipynb",
      "provenance": []
    },
    "kernelspec": {
      "display_name": "Python 3",
      "name": "python3"
    },
    "language_info": {
      "name": "python"
    }
  },
  "nbformat": 4,
  "nbformat_minor": 0
}